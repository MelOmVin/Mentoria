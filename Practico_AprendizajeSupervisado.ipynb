{
 "cells": [
  {
   "cell_type": "markdown",
   "metadata": {},
   "source": [
    "# Practico Mentoria - Aprendizaje Supervisado\n",
    "\n",
    "Vamos a tratar de predecir el resultado de un partido para el equipo local, es decir, si el equipo local gana (**Win**), empata (**Draw**) o pierde (**Lose**).\n",
    "\n",
    "<h1><FONT COLOR=\"#e600e5\"> Autor: Melania Omonte</FONT></h1>"
   ]
  },
  {
   "cell_type": "markdown",
   "metadata": {},
   "source": [
    "---"
   ]
  },
  {
   "cell_type": "markdown",
   "metadata": {},
   "source": [
    "### Importaciones"
   ]
  },
  {
   "cell_type": "code",
   "execution_count": 1,
   "metadata": {},
   "outputs": [],
   "source": [
    "%load_ext autoreload\n",
    "%autoreload 2\n",
    "\n",
    "%matplotlib inline"
   ]
  },
  {
   "cell_type": "code",
   "execution_count": 2,
   "metadata": {},
   "outputs": [],
   "source": [
    "import numpy as np\n",
    "import pandas as pd\n",
    "import matplotlib.pyplot as plt\n",
    "import seaborn as sns\n",
    "import scipy as sp\n",
    "import warnings\n",
    "\n",
    "from sklearn.model_selection import train_test_split, GridSearchCV\n",
    "from sklearn.ensemble import RandomForestClassifier, AdaBoostClassifier\n",
    "from sklearn.neighbors import KNeighborsClassifier\n",
    "from sklearn.linear_model import LogisticRegression\n",
    "from sklearn.decomposition import PCA\n",
    "from sklearn.pipeline import Pipeline\n",
    "from sklearn.metrics import accuracy_score, confusion_matrix, classification_report\n",
    "from sklearn.preprocessing import StandardScaler\n",
    "\n",
    "from sklearn import preprocessing\n",
    "import scikitplot as skplt\n",
    "\n",
    "#from ml.visualization import plot_confusion_matrix"
   ]
  },
  {
   "cell_type": "code",
   "execution_count": 3,
   "metadata": {},
   "outputs": [],
   "source": [
    "warnings.filterwarnings('ignore')\n",
    "\n",
    "sns.set_style(\"whitegrid\")"
   ]
  },
  {
   "cell_type": "code",
   "execution_count": 4,
   "metadata": {},
   "outputs": [],
   "source": [
    "# Seteamos una semilla para Reproducibilidad\n",
    "np.random.seed(42)"
   ]
  },
  {
   "cell_type": "markdown",
   "metadata": {},
   "source": [
    "---"
   ]
  },
  {
   "cell_type": "markdown",
   "metadata": {},
   "source": [
    "### Carga del Dateset\n",
    "Cargo el dataset con los datos y muestro el total de filas y columnas"
   ]
  },
  {
   "cell_type": "code",
   "execution_count": 5,
   "metadata": {},
   "outputs": [
    {
     "name": "stdout",
     "output_type": "stream",
     "text": [
      "Shape 'data_df'  = (322, 37)\n"
     ]
    }
   ],
   "source": [
    "data_df = pd.read_csv('football_data.csv')\n",
    "\n",
    "print(\"Shape 'data_df'  = {}\".format(data_df.shape))"
   ]
  },
  {
   "cell_type": "markdown",
   "metadata": {},
   "source": [
    "Muestro 10 columnas del dataset"
   ]
  },
  {
   "cell_type": "code",
   "execution_count": 6,
   "metadata": {},
   "outputs": [
    {
     "data": {
      "text/html": [
       "<div>\n",
       "<style scoped>\n",
       "    .dataframe tbody tr th:only-of-type {\n",
       "        vertical-align: middle;\n",
       "    }\n",
       "\n",
       "    .dataframe tbody tr th {\n",
       "        vertical-align: top;\n",
       "    }\n",
       "\n",
       "    .dataframe thead th {\n",
       "        text-align: right;\n",
       "    }\n",
       "</style>\n",
       "<table border=\"1\" class=\"dataframe\">\n",
       "  <thead>\n",
       "    <tr style=\"text-align: right;\">\n",
       "      <th></th>\n",
       "      <th>home_team_goals_difference</th>\n",
       "      <th>away_team_goals_difference</th>\n",
       "      <th>games_won_home_team</th>\n",
       "      <th>games_won_away_team</th>\n",
       "      <th>games_against_won</th>\n",
       "      <th>games_against_lost</th>\n",
       "      <th>League_21518</th>\n",
       "      <th>League_24558</th>\n",
       "      <th>home_player_1_overall_rating</th>\n",
       "      <th>home_player_2_overall_rating</th>\n",
       "      <th>...</th>\n",
       "      <th>away_player_9_overall_rating</th>\n",
       "      <th>away_player_10_overall_rating</th>\n",
       "      <th>away_player_11_overall_rating</th>\n",
       "      <th>B365_Win</th>\n",
       "      <th>B365_Draw</th>\n",
       "      <th>B365_Lose</th>\n",
       "      <th>BW_Win</th>\n",
       "      <th>BW_Draw</th>\n",
       "      <th>BW_Lose</th>\n",
       "      <th>label</th>\n",
       "    </tr>\n",
       "  </thead>\n",
       "  <tbody>\n",
       "    <tr>\n",
       "      <th>173</th>\n",
       "      <td>3</td>\n",
       "      <td>1</td>\n",
       "      <td>1</td>\n",
       "      <td>1</td>\n",
       "      <td>0</td>\n",
       "      <td>0</td>\n",
       "      <td>1</td>\n",
       "      <td>0</td>\n",
       "      <td>77.0</td>\n",
       "      <td>79.0</td>\n",
       "      <td>...</td>\n",
       "      <td>78.0</td>\n",
       "      <td>89.0</td>\n",
       "      <td>86.0</td>\n",
       "      <td>0.288514</td>\n",
       "      <td>0.297530</td>\n",
       "      <td>0.413955</td>\n",
       "      <td>0.291139</td>\n",
       "      <td>0.291139</td>\n",
       "      <td>0.417722</td>\n",
       "      <td>Lose</td>\n",
       "    </tr>\n",
       "    <tr>\n",
       "      <th>132</th>\n",
       "      <td>10</td>\n",
       "      <td>9</td>\n",
       "      <td>7</td>\n",
       "      <td>7</td>\n",
       "      <td>0</td>\n",
       "      <td>1</td>\n",
       "      <td>1</td>\n",
       "      <td>0</td>\n",
       "      <td>82.0</td>\n",
       "      <td>81.0</td>\n",
       "      <td>...</td>\n",
       "      <td>77.0</td>\n",
       "      <td>80.0</td>\n",
       "      <td>79.0</td>\n",
       "      <td>0.622420</td>\n",
       "      <td>0.250606</td>\n",
       "      <td>0.126974</td>\n",
       "      <td>0.615163</td>\n",
       "      <td>0.257703</td>\n",
       "      <td>0.127134</td>\n",
       "      <td>Draw</td>\n",
       "    </tr>\n",
       "    <tr>\n",
       "      <th>197</th>\n",
       "      <td>-7</td>\n",
       "      <td>-12</td>\n",
       "      <td>3</td>\n",
       "      <td>2</td>\n",
       "      <td>1</td>\n",
       "      <td>0</td>\n",
       "      <td>1</td>\n",
       "      <td>0</td>\n",
       "      <td>73.0</td>\n",
       "      <td>72.0</td>\n",
       "      <td>...</td>\n",
       "      <td>70.0</td>\n",
       "      <td>77.0</td>\n",
       "      <td>75.0</td>\n",
       "      <td>0.453278</td>\n",
       "      <td>0.292887</td>\n",
       "      <td>0.253835</td>\n",
       "      <td>0.446512</td>\n",
       "      <td>0.293023</td>\n",
       "      <td>0.260465</td>\n",
       "      <td>Draw</td>\n",
       "    </tr>\n",
       "    <tr>\n",
       "      <th>9</th>\n",
       "      <td>-7</td>\n",
       "      <td>2</td>\n",
       "      <td>0</td>\n",
       "      <td>3</td>\n",
       "      <td>0</td>\n",
       "      <td>0</td>\n",
       "      <td>1</td>\n",
       "      <td>0</td>\n",
       "      <td>77.0</td>\n",
       "      <td>76.0</td>\n",
       "      <td>...</td>\n",
       "      <td>81.0</td>\n",
       "      <td>78.0</td>\n",
       "      <td>82.0</td>\n",
       "      <td>0.254967</td>\n",
       "      <td>0.289735</td>\n",
       "      <td>0.455298</td>\n",
       "      <td>0.267123</td>\n",
       "      <td>0.287671</td>\n",
       "      <td>0.445205</td>\n",
       "      <td>Win</td>\n",
       "    </tr>\n",
       "    <tr>\n",
       "      <th>104</th>\n",
       "      <td>-2</td>\n",
       "      <td>1</td>\n",
       "      <td>2</td>\n",
       "      <td>4</td>\n",
       "      <td>0</td>\n",
       "      <td>0</td>\n",
       "      <td>1</td>\n",
       "      <td>0</td>\n",
       "      <td>71.0</td>\n",
       "      <td>73.0</td>\n",
       "      <td>...</td>\n",
       "      <td>80.0</td>\n",
       "      <td>75.0</td>\n",
       "      <td>72.0</td>\n",
       "      <td>0.395939</td>\n",
       "      <td>0.289949</td>\n",
       "      <td>0.314112</td>\n",
       "      <td>0.390083</td>\n",
       "      <td>0.292562</td>\n",
       "      <td>0.317355</td>\n",
       "      <td>Lose</td>\n",
       "    </tr>\n",
       "    <tr>\n",
       "      <th>119</th>\n",
       "      <td>8</td>\n",
       "      <td>-6</td>\n",
       "      <td>5</td>\n",
       "      <td>3</td>\n",
       "      <td>0</td>\n",
       "      <td>1</td>\n",
       "      <td>1</td>\n",
       "      <td>0</td>\n",
       "      <td>76.0</td>\n",
       "      <td>77.0</td>\n",
       "      <td>...</td>\n",
       "      <td>77.0</td>\n",
       "      <td>69.0</td>\n",
       "      <td>71.0</td>\n",
       "      <td>0.714796</td>\n",
       "      <td>0.190136</td>\n",
       "      <td>0.095068</td>\n",
       "      <td>0.717454</td>\n",
       "      <td>0.173493</td>\n",
       "      <td>0.109053</td>\n",
       "      <td>Win</td>\n",
       "    </tr>\n",
       "    <tr>\n",
       "      <th>256</th>\n",
       "      <td>-2</td>\n",
       "      <td>1</td>\n",
       "      <td>4</td>\n",
       "      <td>3</td>\n",
       "      <td>0</td>\n",
       "      <td>1</td>\n",
       "      <td>1</td>\n",
       "      <td>0</td>\n",
       "      <td>70.0</td>\n",
       "      <td>76.0</td>\n",
       "      <td>...</td>\n",
       "      <td>77.0</td>\n",
       "      <td>72.0</td>\n",
       "      <td>76.0</td>\n",
       "      <td>0.636364</td>\n",
       "      <td>0.227273</td>\n",
       "      <td>0.136364</td>\n",
       "      <td>0.622722</td>\n",
       "      <td>0.227825</td>\n",
       "      <td>0.149453</td>\n",
       "      <td>Win</td>\n",
       "    </tr>\n",
       "    <tr>\n",
       "      <th>158</th>\n",
       "      <td>7</td>\n",
       "      <td>-8</td>\n",
       "      <td>5</td>\n",
       "      <td>3</td>\n",
       "      <td>1</td>\n",
       "      <td>0</td>\n",
       "      <td>1</td>\n",
       "      <td>0</td>\n",
       "      <td>79.0</td>\n",
       "      <td>71.0</td>\n",
       "      <td>...</td>\n",
       "      <td>77.0</td>\n",
       "      <td>76.0</td>\n",
       "      <td>78.0</td>\n",
       "      <td>0.608660</td>\n",
       "      <td>0.254826</td>\n",
       "      <td>0.136514</td>\n",
       "      <td>0.603949</td>\n",
       "      <td>0.240031</td>\n",
       "      <td>0.156020</td>\n",
       "      <td>Draw</td>\n",
       "    </tr>\n",
       "    <tr>\n",
       "      <th>226</th>\n",
       "      <td>-6</td>\n",
       "      <td>-4</td>\n",
       "      <td>2</td>\n",
       "      <td>3</td>\n",
       "      <td>1</td>\n",
       "      <td>0</td>\n",
       "      <td>1</td>\n",
       "      <td>0</td>\n",
       "      <td>77.0</td>\n",
       "      <td>74.0</td>\n",
       "      <td>...</td>\n",
       "      <td>78.0</td>\n",
       "      <td>76.0</td>\n",
       "      <td>77.0</td>\n",
       "      <td>0.483022</td>\n",
       "      <td>0.269112</td>\n",
       "      <td>0.247866</td>\n",
       "      <td>0.498480</td>\n",
       "      <td>0.274164</td>\n",
       "      <td>0.227356</td>\n",
       "      <td>Win</td>\n",
       "    </tr>\n",
       "    <tr>\n",
       "      <th>311</th>\n",
       "      <td>-2</td>\n",
       "      <td>-8</td>\n",
       "      <td>3</td>\n",
       "      <td>2</td>\n",
       "      <td>0</td>\n",
       "      <td>0</td>\n",
       "      <td>1</td>\n",
       "      <td>0</td>\n",
       "      <td>77.0</td>\n",
       "      <td>73.0</td>\n",
       "      <td>...</td>\n",
       "      <td>73.0</td>\n",
       "      <td>76.0</td>\n",
       "      <td>78.0</td>\n",
       "      <td>0.474820</td>\n",
       "      <td>0.287770</td>\n",
       "      <td>0.237410</td>\n",
       "      <td>0.446512</td>\n",
       "      <td>0.293023</td>\n",
       "      <td>0.260465</td>\n",
       "      <td>Lose</td>\n",
       "    </tr>\n",
       "  </tbody>\n",
       "</table>\n",
       "<p>10 rows × 37 columns</p>\n",
       "</div>"
      ],
      "text/plain": [
       "     home_team_goals_difference  away_team_goals_difference  \\\n",
       "173                           3                           1   \n",
       "132                          10                           9   \n",
       "197                          -7                         -12   \n",
       "9                            -7                           2   \n",
       "104                          -2                           1   \n",
       "119                           8                          -6   \n",
       "256                          -2                           1   \n",
       "158                           7                          -8   \n",
       "226                          -6                          -4   \n",
       "311                          -2                          -8   \n",
       "\n",
       "     games_won_home_team  games_won_away_team  games_against_won  \\\n",
       "173                    1                    1                  0   \n",
       "132                    7                    7                  0   \n",
       "197                    3                    2                  1   \n",
       "9                      0                    3                  0   \n",
       "104                    2                    4                  0   \n",
       "119                    5                    3                  0   \n",
       "256                    4                    3                  0   \n",
       "158                    5                    3                  1   \n",
       "226                    2                    3                  1   \n",
       "311                    3                    2                  0   \n",
       "\n",
       "     games_against_lost  League_21518  League_24558  \\\n",
       "173                   0             1             0   \n",
       "132                   1             1             0   \n",
       "197                   0             1             0   \n",
       "9                     0             1             0   \n",
       "104                   0             1             0   \n",
       "119                   1             1             0   \n",
       "256                   1             1             0   \n",
       "158                   0             1             0   \n",
       "226                   0             1             0   \n",
       "311                   0             1             0   \n",
       "\n",
       "     home_player_1_overall_rating  home_player_2_overall_rating  ...  \\\n",
       "173                          77.0                          79.0  ...   \n",
       "132                          82.0                          81.0  ...   \n",
       "197                          73.0                          72.0  ...   \n",
       "9                            77.0                          76.0  ...   \n",
       "104                          71.0                          73.0  ...   \n",
       "119                          76.0                          77.0  ...   \n",
       "256                          70.0                          76.0  ...   \n",
       "158                          79.0                          71.0  ...   \n",
       "226                          77.0                          74.0  ...   \n",
       "311                          77.0                          73.0  ...   \n",
       "\n",
       "     away_player_9_overall_rating  away_player_10_overall_rating  \\\n",
       "173                          78.0                           89.0   \n",
       "132                          77.0                           80.0   \n",
       "197                          70.0                           77.0   \n",
       "9                            81.0                           78.0   \n",
       "104                          80.0                           75.0   \n",
       "119                          77.0                           69.0   \n",
       "256                          77.0                           72.0   \n",
       "158                          77.0                           76.0   \n",
       "226                          78.0                           76.0   \n",
       "311                          73.0                           76.0   \n",
       "\n",
       "     away_player_11_overall_rating  B365_Win  B365_Draw  B365_Lose    BW_Win  \\\n",
       "173                           86.0  0.288514   0.297530   0.413955  0.291139   \n",
       "132                           79.0  0.622420   0.250606   0.126974  0.615163   \n",
       "197                           75.0  0.453278   0.292887   0.253835  0.446512   \n",
       "9                             82.0  0.254967   0.289735   0.455298  0.267123   \n",
       "104                           72.0  0.395939   0.289949   0.314112  0.390083   \n",
       "119                           71.0  0.714796   0.190136   0.095068  0.717454   \n",
       "256                           76.0  0.636364   0.227273   0.136364  0.622722   \n",
       "158                           78.0  0.608660   0.254826   0.136514  0.603949   \n",
       "226                           77.0  0.483022   0.269112   0.247866  0.498480   \n",
       "311                           78.0  0.474820   0.287770   0.237410  0.446512   \n",
       "\n",
       "      BW_Draw   BW_Lose  label  \n",
       "173  0.291139  0.417722   Lose  \n",
       "132  0.257703  0.127134   Draw  \n",
       "197  0.293023  0.260465   Draw  \n",
       "9    0.287671  0.445205    Win  \n",
       "104  0.292562  0.317355   Lose  \n",
       "119  0.173493  0.109053    Win  \n",
       "256  0.227825  0.149453    Win  \n",
       "158  0.240031  0.156020   Draw  \n",
       "226  0.274164  0.227356    Win  \n",
       "311  0.293023  0.260465   Lose  \n",
       "\n",
       "[10 rows x 37 columns]"
      ]
     },
     "execution_count": 6,
     "metadata": {},
     "output_type": "execute_result"
    }
   ],
   "source": [
    "data_df.sample(10)"
   ]
  },
  {
   "cell_type": "markdown",
   "metadata": {},
   "source": [
    "Verificamos los tipos de datos del dataset data_df"
   ]
  },
  {
   "cell_type": "code",
   "execution_count": 7,
   "metadata": {},
   "outputs": [
    {
     "data": {
      "text/plain": [
       "home_team_goals_difference         int64\n",
       "away_team_goals_difference         int64\n",
       "games_won_home_team                int64\n",
       "games_won_away_team                int64\n",
       "games_against_won                  int64\n",
       "games_against_lost                 int64\n",
       "League_21518                       int64\n",
       "League_24558                       int64\n",
       "home_player_1_overall_rating     float64\n",
       "home_player_2_overall_rating     float64\n",
       "home_player_3_overall_rating     float64\n",
       "home_player_4_overall_rating     float64\n",
       "home_player_5_overall_rating     float64\n",
       "home_player_6_overall_rating     float64\n",
       "home_player_7_overall_rating     float64\n",
       "home_player_8_overall_rating     float64\n",
       "home_player_9_overall_rating     float64\n",
       "home_player_10_overall_rating    float64\n",
       "home_player_11_overall_rating    float64\n",
       "away_player_1_overall_rating     float64\n",
       "away_player_2_overall_rating     float64\n",
       "away_player_3_overall_rating     float64\n",
       "away_player_4_overall_rating     float64\n",
       "away_player_5_overall_rating     float64\n",
       "away_player_6_overall_rating     float64\n",
       "away_player_7_overall_rating     float64\n",
       "away_player_8_overall_rating     float64\n",
       "away_player_9_overall_rating     float64\n",
       "away_player_10_overall_rating    float64\n",
       "away_player_11_overall_rating    float64\n",
       "B365_Win                         float64\n",
       "B365_Draw                        float64\n",
       "B365_Lose                        float64\n",
       "BW_Win                           float64\n",
       "BW_Draw                          float64\n",
       "BW_Lose                          float64\n",
       "label                             object\n",
       "dtype: object"
      ]
     },
     "execution_count": 7,
     "metadata": {},
     "output_type": "execute_result"
    }
   ],
   "source": [
    "data_df.dtypes"
   ]
  },
  {
   "cell_type": "markdown",
   "metadata": {},
   "source": [
    "### Obtemos el `input` y el `target` para los modelos"
   ]
  },
  {
   "cell_type": "markdown",
   "metadata": {},
   "source": [
    " Obtenemos el `target`"
   ]
  },
  {
   "cell_type": "code",
   "execution_count": 8,
   "metadata": {},
   "outputs": [],
   "source": [
    "target_data = data_df.loc[:, 'label']"
   ]
  },
  {
   "cell_type": "code",
   "execution_count": 9,
   "metadata": {},
   "outputs": [
    {
     "name": "stdout",
     "output_type": "stream",
     "text": [
      "Columna: label\n",
      "Draw     77\n",
      "Lose     90\n",
      "Win     155\n",
      "dtype: int64\n",
      "Shape 'target_data' = (322,)\n"
     ]
    },
    {
     "data": {
      "text/plain": [
       "dtype('O')"
      ]
     },
     "execution_count": 9,
     "metadata": {},
     "output_type": "execute_result"
    }
   ],
   "source": [
    "print(\"Columna:\",data_df.groupby('label').size())\n",
    "print(\"Shape 'target_data' = {}\".format(target_data.shape))\n",
    "target_data.dtypes"
   ]
  },
  {
   "cell_type": "code",
   "execution_count": 10,
   "metadata": {},
   "outputs": [
    {
     "data": {
      "text/plain": [
       "array(['Draw', 'Lose', 'Win'], dtype=object)"
      ]
     },
     "execution_count": 10,
     "metadata": {},
     "output_type": "execute_result"
    }
   ],
   "source": [
    "\n",
    "target_data.unique()\n"
   ]
  },
  {
   "cell_type": "code",
   "execution_count": 11,
   "metadata": {},
   "outputs": [
    {
     "data": {
      "text/plain": [
       "Win     155\n",
       "Lose     90\n",
       "Draw     77\n",
       "Name: label, dtype: int64"
      ]
     },
     "metadata": {},
     "output_type": "display_data"
    },
    {
     "data": {
      "image/png": "[encoded data removed]",
      "text/plain": [
       "<Figure size 720x360 with 1 Axes>"
      ]
     },
     "metadata": {},
     "output_type": "display_data"
    }
   ],
   "source": [
    "# TODO: Plotear la distribucion de los targets\n",
    "\n",
    "plt.figure(figsize=(10, 5))\n",
    "\n",
    "target_count = target_data.value_counts()\n",
    "display(target_count)\n",
    "my_order = [\"Win\", \"Lose\", \"Draw\"]\n",
    "\n",
    "sns.barplot(target_count.index, target_count.values, order=my_order, palette = sns.light_palette('blue'))\n",
    "plt.title('Distribucion de los Labels en el Dataset')\n",
    "plt.xlabel('Tags')\n",
    "plt.ylabel('Count')\n",
    "plt.show()"
   ]
  },
  {
   "cell_type": "markdown",
   "metadata": {},
   "source": [
    "> Obtenemos el `input_data`"
   ]
  },
  {
   "cell_type": "code",
   "execution_count": 12,
   "metadata": {},
   "outputs": [],
   "source": [
    "input_data = data_df.drop('label', axis=1)"
   ]
  },
  {
   "cell_type": "code",
   "execution_count": 13,
   "metadata": {},
   "outputs": [
    {
     "name": "stdout",
     "output_type": "stream",
     "text": [
      "Shape 'input_data' = (322, 36)\n"
     ]
    },
    {
     "data": {
      "text/html": [
       "<div>\n",
       "<style scoped>\n",
       "    .dataframe tbody tr th:only-of-type {\n",
       "        vertical-align: middle;\n",
       "    }\n",
       "\n",
       "    .dataframe tbody tr th {\n",
       "        vertical-align: top;\n",
       "    }\n",
       "\n",
       "    .dataframe thead th {\n",
       "        text-align: right;\n",
       "    }\n",
       "</style>\n",
       "<table border=\"1\" class=\"dataframe\">\n",
       "  <thead>\n",
       "    <tr style=\"text-align: right;\">\n",
       "      <th></th>\n",
       "      <th>home_team_goals_difference</th>\n",
       "      <th>away_team_goals_difference</th>\n",
       "      <th>games_won_home_team</th>\n",
       "      <th>games_won_away_team</th>\n",
       "      <th>games_against_won</th>\n",
       "      <th>games_against_lost</th>\n",
       "      <th>League_21518</th>\n",
       "      <th>League_24558</th>\n",
       "      <th>home_player_1_overall_rating</th>\n",
       "      <th>home_player_2_overall_rating</th>\n",
       "      <th>...</th>\n",
       "      <th>away_player_8_overall_rating</th>\n",
       "      <th>away_player_9_overall_rating</th>\n",
       "      <th>away_player_10_overall_rating</th>\n",
       "      <th>away_player_11_overall_rating</th>\n",
       "      <th>B365_Win</th>\n",
       "      <th>B365_Draw</th>\n",
       "      <th>B365_Lose</th>\n",
       "      <th>BW_Win</th>\n",
       "      <th>BW_Draw</th>\n",
       "      <th>BW_Lose</th>\n",
       "    </tr>\n",
       "  </thead>\n",
       "  <tbody>\n",
       "    <tr>\n",
       "      <th>0</th>\n",
       "      <td>-5</td>\n",
       "      <td>-8</td>\n",
       "      <td>2</td>\n",
       "      <td>1</td>\n",
       "      <td>0</td>\n",
       "      <td>0</td>\n",
       "      <td>1</td>\n",
       "      <td>0</td>\n",
       "      <td>77.0</td>\n",
       "      <td>69.0</td>\n",
       "      <td>...</td>\n",
       "      <td>72.0</td>\n",
       "      <td>71.0</td>\n",
       "      <td>73.0</td>\n",
       "      <td>73.0</td>\n",
       "      <td>0.395683</td>\n",
       "      <td>0.287770</td>\n",
       "      <td>0.316547</td>\n",
       "      <td>0.389704</td>\n",
       "      <td>0.287782</td>\n",
       "      <td>0.322514</td>\n",
       "    </tr>\n",
       "    <tr>\n",
       "      <th>1</th>\n",
       "      <td>4</td>\n",
       "      <td>-2</td>\n",
       "      <td>4</td>\n",
       "      <td>1</td>\n",
       "      <td>0</td>\n",
       "      <td>0</td>\n",
       "      <td>1</td>\n",
       "      <td>0</td>\n",
       "      <td>76.0</td>\n",
       "      <td>79.0</td>\n",
       "      <td>...</td>\n",
       "      <td>74.0</td>\n",
       "      <td>76.0</td>\n",
       "      <td>71.0</td>\n",
       "      <td>72.0</td>\n",
       "      <td>0.624582</td>\n",
       "      <td>0.238903</td>\n",
       "      <td>0.136516</td>\n",
       "      <td>0.612713</td>\n",
       "      <td>0.253365</td>\n",
       "      <td>0.133922</td>\n",
       "    </tr>\n",
       "    <tr>\n",
       "      <th>2</th>\n",
       "      <td>18</td>\n",
       "      <td>7</td>\n",
       "      <td>6</td>\n",
       "      <td>6</td>\n",
       "      <td>0</td>\n",
       "      <td>0</td>\n",
       "      <td>1</td>\n",
       "      <td>0</td>\n",
       "      <td>81.0</td>\n",
       "      <td>81.0</td>\n",
       "      <td>...</td>\n",
       "      <td>88.0</td>\n",
       "      <td>78.0</td>\n",
       "      <td>90.0</td>\n",
       "      <td>88.0</td>\n",
       "      <td>0.390698</td>\n",
       "      <td>0.260465</td>\n",
       "      <td>0.348837</td>\n",
       "      <td>0.380496</td>\n",
       "      <td>0.279776</td>\n",
       "      <td>0.339728</td>\n",
       "    </tr>\n",
       "    <tr>\n",
       "      <th>3</th>\n",
       "      <td>1</td>\n",
       "      <td>1</td>\n",
       "      <td>2</td>\n",
       "      <td>3</td>\n",
       "      <td>0</td>\n",
       "      <td>0</td>\n",
       "      <td>1</td>\n",
       "      <td>0</td>\n",
       "      <td>79.0</td>\n",
       "      <td>65.0</td>\n",
       "      <td>...</td>\n",
       "      <td>79.0</td>\n",
       "      <td>81.0</td>\n",
       "      <td>81.0</td>\n",
       "      <td>79.0</td>\n",
       "      <td>0.360875</td>\n",
       "      <td>0.287606</td>\n",
       "      <td>0.351519</td>\n",
       "      <td>0.354839</td>\n",
       "      <td>0.290323</td>\n",
       "      <td>0.354839</td>\n",
       "    </tr>\n",
       "    <tr>\n",
       "      <th>4</th>\n",
       "      <td>1</td>\n",
       "      <td>1</td>\n",
       "      <td>3</td>\n",
       "      <td>1</td>\n",
       "      <td>0</td>\n",
       "      <td>0</td>\n",
       "      <td>1</td>\n",
       "      <td>0</td>\n",
       "      <td>74.0</td>\n",
       "      <td>73.0</td>\n",
       "      <td>...</td>\n",
       "      <td>69.0</td>\n",
       "      <td>67.0</td>\n",
       "      <td>76.0</td>\n",
       "      <td>76.0</td>\n",
       "      <td>0.651526</td>\n",
       "      <td>0.223380</td>\n",
       "      <td>0.125093</td>\n",
       "      <td>0.634855</td>\n",
       "      <td>0.224066</td>\n",
       "      <td>0.141079</td>\n",
       "    </tr>\n",
       "  </tbody>\n",
       "</table>\n",
       "<p>5 rows × 36 columns</p>\n",
       "</div>"
      ],
      "text/plain": [
       "   home_team_goals_difference  away_team_goals_difference  \\\n",
       "0                          -5                          -8   \n",
       "1                           4                          -2   \n",
       "2                          18                           7   \n",
       "3                           1                           1   \n",
       "4                           1                           1   \n",
       "\n",
       "   games_won_home_team  games_won_away_team  games_against_won  \\\n",
       "0                    2                    1                  0   \n",
       "1                    4                    1                  0   \n",
       "2                    6                    6                  0   \n",
       "3                    2                    3                  0   \n",
       "4                    3                    1                  0   \n",
       "\n",
       "   games_against_lost  League_21518  League_24558  \\\n",
       "0                   0             1             0   \n",
       "1                   0             1             0   \n",
       "2                   0             1             0   \n",
       "3                   0             1             0   \n",
       "4                   0             1             0   \n",
       "\n",
       "   home_player_1_overall_rating  home_player_2_overall_rating  ...  \\\n",
       "0                          77.0                          69.0  ...   \n",
       "1                          76.0                          79.0  ...   \n",
       "2                          81.0                          81.0  ...   \n",
       "3                          79.0                          65.0  ...   \n",
       "4                          74.0                          73.0  ...   \n",
       "\n",
       "   away_player_8_overall_rating  away_player_9_overall_rating  \\\n",
       "0                          72.0                          71.0   \n",
       "1                          74.0                          76.0   \n",
       "2                          88.0                          78.0   \n",
       "3                          79.0                          81.0   \n",
       "4                          69.0                          67.0   \n",
       "\n",
       "   away_player_10_overall_rating  away_player_11_overall_rating  B365_Win  \\\n",
       "0                           73.0                           73.0  0.395683   \n",
       "1                           71.0                           72.0  0.624582   \n",
       "2                           90.0                           88.0  0.390698   \n",
       "3                           81.0                           79.0  0.360875   \n",
       "4                           76.0                           76.0  0.651526   \n",
       "\n",
       "   B365_Draw  B365_Lose    BW_Win   BW_Draw   BW_Lose  \n",
       "0   0.287770   0.316547  0.389704  0.287782  0.322514  \n",
       "1   0.238903   0.136516  0.612713  0.253365  0.133922  \n",
       "2   0.260465   0.348837  0.380496  0.279776  0.339728  \n",
       "3   0.287606   0.351519  0.354839  0.290323  0.354839  \n",
       "4   0.223380   0.125093  0.634855  0.224066  0.141079  \n",
       "\n",
       "[5 rows x 36 columns]"
      ]
     },
     "metadata": {},
     "output_type": "display_data"
    },
    {
     "name": "stdout",
     "output_type": "stream",
     "text": [
      "==============================\n"
     ]
    },
    {
     "data": {
      "text/plain": [
       "home_team_goals_difference         int64\n",
       "away_team_goals_difference         int64\n",
       "games_won_home_team                int64\n",
       "games_won_away_team                int64\n",
       "games_against_won                  int64\n",
       "games_against_lost                 int64\n",
       "League_21518                       int64\n",
       "League_24558                       int64\n",
       "home_player_1_overall_rating     float64\n",
       "home_player_2_overall_rating     float64\n",
       "home_player_3_overall_rating     float64\n",
       "home_player_4_overall_rating     float64\n",
       "home_player_5_overall_rating     float64\n",
       "home_player_6_overall_rating     float64\n",
       "home_player_7_overall_rating     float64\n",
       "home_player_8_overall_rating     float64\n",
       "home_player_9_overall_rating     float64\n",
       "home_player_10_overall_rating    float64\n",
       "home_player_11_overall_rating    float64\n",
       "away_player_1_overall_rating     float64\n",
       "away_player_2_overall_rating     float64\n",
       "away_player_3_overall_rating     float64\n",
       "away_player_4_overall_rating     float64\n",
       "away_player_5_overall_rating     float64\n",
       "away_player_6_overall_rating     float64\n",
       "away_player_7_overall_rating     float64\n",
       "away_player_8_overall_rating     float64\n",
       "away_player_9_overall_rating     float64\n",
       "away_player_10_overall_rating    float64\n",
       "away_player_11_overall_rating    float64\n",
       "B365_Win                         float64\n",
       "B365_Draw                        float64\n",
       "B365_Lose                        float64\n",
       "BW_Win                           float64\n",
       "BW_Draw                          float64\n",
       "BW_Lose                          float64\n",
       "dtype: object"
      ]
     },
     "metadata": {},
     "output_type": "display_data"
    }
   ],
   "source": [
    "print(\"Shape 'input_data' = {}\".format(input_data.shape))\n",
    "display(input_data.head())\n",
    "print('=' * 30)\n",
    "display(input_data.dtypes)"
   ]
  },
  {
   "cell_type": "markdown",
   "metadata": {},
   "source": [
    "> ### División de datos en conjuntos de Entrenamiento, Validacion y Test\n",
    "\n",
    "Dividimos el conjunto de datos cargado en el apartado anterior en conjuntos de Entrenamiento (o _training_), Validacion (_validation_) y evaluación (o _test_).\n",
    "\n",
    "Utilizar aproximadamente 70% de los datos para Entrenamiento, 20% para Validacion y el 10% para Evaluacion.\n"
   ]
  },
  {
   "cell_type": "code",
   "execution_count": 14,
   "metadata": {},
   "outputs": [],
   "source": [
    "# TODO\n",
    "\n",
    "X_entrenamiento, X_evaluacion, y_entrenamiento, y_evaluacion = train_test_split(input_data, target_data, test_size=0.2)\n",
    "X_entr, X_val, y_entr, y_val = train_test_split(X_entrenamiento, y_entrenamiento, test_size=0.123)\n"
   ]
  },
  {
   "cell_type": "code",
   "execution_count": 15,
   "metadata": {},
   "outputs": [
    {
     "name": "stdout",
     "output_type": "stream",
     "text": [
      "Matrices de X:  (65, 36) (225, 36) (32, 36)\n",
      "Matrices de Y: (65,) (225,) (32,)\n",
      "len: 322\n"
     ]
    }
   ],
   "source": [
    "print('Matrices de X: ', X_evaluacion.shape,X_entr.shape,X_val.shape )\n",
    "\n",
    "print('Matrices de Y:',y_evaluacion.shape,y_entr.shape,y_val.shape)\n",
    "\n",
    "print(\"len:\", X_evaluacion.shape[0] + X_entr.shape[0] + X_val.shape[0])\n"
   ]
  },
  {
   "cell_type": "markdown",
   "metadata": {},
   "source": [
    "> ### Distribucion de los labels en los conjuntos de datos generados\n",
    "\n",
    "Mostrar en un grafico, como se distribuyen los labels en los conjuntos de datos generados.\n",
    "\n",
    "**Hint**: Usar graficos de barra (_bar plot_)."
   ]
  },
  {
   "cell_type": "code",
   "execution_count": 16,
   "metadata": {},
   "outputs": [
    {
     "data": {
      "text/plain": [
       "Win     100\n",
       "Lose     69\n",
       "Draw     56\n",
       "Name: label, dtype: int64"
      ]
     },
     "metadata": {},
     "output_type": "display_data"
    },
    {
     "data": {
      "image/png": "[encoded data removed]",
      "text/plain": [
       "<Figure size 720x360 with 1 Axes>"
      ]
     },
     "metadata": {},
     "output_type": "display_data"
    }
   ],
   "source": [
    "# TODO\n",
    "plt.figure(figsize=(10, 5))\n",
    "\n",
    "target_count = y_entr.value_counts()\n",
    "display(target_count)\n",
    "my_order = [\"Win\", \"Lose\", \"Draw\"]\n",
    "\n",
    "sns.barplot(target_count.index, target_count.values, order=my_order, palette = sns.light_palette('blue'))\n",
    "plt.title('Distribucion de los Labels en el Dataset de entrenamiento')\n",
    "plt.xlabel('Tags')\n",
    "plt.ylabel('Count')\n",
    "plt.show()"
   ]
  },
  {
   "cell_type": "code",
   "execution_count": 17,
   "metadata": {},
   "outputs": [
    {
     "data": {
      "text/plain": [
       "Win     16\n",
       "Lose    10\n",
       "Draw     6\n",
       "Name: label, dtype: int64"
      ]
     },
     "metadata": {},
     "output_type": "display_data"
    },
    {
     "data": {
      "image/png": "[encoded data removed]",
      "text/plain": [
       "<Figure size 720x360 with 1 Axes>"
      ]
     },
     "metadata": {},
     "output_type": "display_data"
    }
   ],
   "source": [
    "plt.figure(figsize=(10, 5))\n",
    "\n",
    "target_count = y_val.value_counts()\n",
    "display(target_count)\n",
    "my_order = [\"Win\", \"Lose\", \"Draw\"]\n",
    "\n",
    "sns.barplot(target_count.index, target_count.values, order=my_order,palette = sns.light_palette('blue'))\n",
    "plt.title('Distribucion de los Labels en el Dataset de validacion')\n",
    "plt.xlabel('Tags')\n",
    "plt.ylabel('Count')\n",
    "plt.show()"
   ]
  },
  {
   "cell_type": "code",
   "execution_count": 18,
   "metadata": {},
   "outputs": [
    {
     "data": {
      "text/plain": [
       "Win     39\n",
       "Draw    15\n",
       "Lose    11\n",
       "Name: label, dtype: int64"
      ]
     },
     "metadata": {},
     "output_type": "display_data"
    },
    {
     "data": {
      "image/png": "[encoded data removed]",
      "text/plain": [
       "<Figure size 720x360 with 1 Axes>"
      ]
     },
     "metadata": {},
     "output_type": "display_data"
    }
   ],
   "source": [
    "plt.figure(figsize=(10, 5))\n",
    "\n",
    "target_count = y_evaluacion.value_counts()\n",
    "display(target_count)\n",
    "my_order = [\"Win\", \"Lose\", \"Draw\"]\n",
    "\n",
    "sns.barplot(target_count.index, target_count.values, order=my_order,palette = sns.light_palette('blue'))\n",
    "plt.title('Distribucion de los Labels en el Dataset de evaluacion (test)')\n",
    "plt.xlabel('Tags')\n",
    "plt.ylabel('Count')\n",
    "plt.show()"
   ]
  },
  {
   "cell_type": "markdown",
   "metadata": {},
   "source": [
    "> ### Modelo Baseline\n",
    "\n",
    "Implementamos un modelo Baseline usando **Logistic Regression** sin ajuste de Hiperparametros.\n",
    "\n",
    "Calculamos ademas la accuracy en los conjuntos de entrenamiento y validacion."
   ]
  },
  {
   "cell_type": "code",
   "execution_count": 19,
   "metadata": {},
   "outputs": [
    {
     "data": {
      "text/plain": [
       "LogisticRegression(C=1.0, class_weight=None, dual=False, fit_intercept=True,\n",
       "          intercept_scaling=1, max_iter=100, multi_class='warn',\n",
       "          n_jobs=None, penalty='l2', random_state=None, solver='warn',\n",
       "          tol=0.0001, verbose=0, warm_start=False)"
      ]
     },
     "execution_count": 19,
     "metadata": {},
     "output_type": "execute_result"
    }
   ],
   "source": [
    "# TODO\n",
    "model_baseline = LogisticRegression()\n",
    "model_baseline.fit(X_entr, y_entr)\n"
   ]
  },
  {
   "cell_type": "code",
   "execution_count": 20,
   "metadata": {},
   "outputs": [
    {
     "name": "stdout",
     "output_type": "stream",
     "text": [
      "Exactitud para entrenamiento: 0.64\n",
      "Exactitud para validación: 0.56\n"
     ]
    }
   ],
   "source": [
    "\n",
    "print('Exactitud para entrenamiento: %.2f' %  accuracy_score(y_entr, model_baseline.predict(X_entr)))\n",
    "print('Exactitud para validación: %.2f' % accuracy_score(y_val, model_baseline.predict(X_val)))\n",
    "\n"
   ]
  },
  {
   "cell_type": "markdown",
   "metadata": {},
   "source": [
    "> ### Seleccion de Clasificadores\n",
    "\n",
    "Comparamos la performance entre clasificadores:\n",
    "* [RandomForestClassifier]\n",
    "* [AdaBoostClassifier]\n",
    "* [KNeighborsClassifier]\n",
    "* [LogisticRegression]\n",
    "\n",
    "**Hint** para mejores resultados:\n",
    "* Usar [PCA](https://scikit-learn.org/stable/modules/generated/sklearn.decomposition.PCA.html) y [Grid Search](https://scikit-learn.org/stable/modules/generated/sklearn.model_selection.GridSearchCV.html)\n",
    "\n",
    "> **Plotear los resultados en un grafico**"
   ]
  },
  {
   "cell_type": "code",
   "execution_count": 21,
   "metadata": {},
   "outputs": [
    {
     "name": "stdout",
     "output_type": "stream",
     "text": [
      "[-0.56888889  0.49777778  3.05777778  3.34222222  0.13333333  0.19555556\n",
      "  1.          0.         76.27555556 75.20444444 75.86222222 76.47555556\n",
      " 74.90222222 76.55111111 76.84888889 76.94222222 76.73777778 76.81777778\n",
      " 77.10666667 76.28888889 75.12444444 76.00888889 76.84888889 75.52444444\n",
      " 76.69333333 76.87555556 76.69333333 76.88888889 76.84       77.10222222\n",
      "  0.4534957   0.24414981  0.30235449  0.44900126  0.24616412  0.30483462]\n"
     ]
    }
   ],
   "source": [
    "test_score_dict = {\n",
    "    'baseline LogReg': {\n",
    "        'entrenamiento': accuracy_score(y_entr, model_baseline.predict(X_entr)),\n",
    "        'validacion' : accuracy_score(y_val, model_baseline.predict(X_val))\n",
    "    }   \n",
    "}\n",
    "\n",
    "scaler = StandardScaler()\n",
    "X_entr_sca = scaler.fit_transform(X_entr)\n",
    "X_val_sca = scaler.transform(X_val)\n",
    "X_evaluacion_sca = scaler.transform(X_evaluacion)\n",
    "\n",
    "print(scaler.mean_)"
   ]
  },
  {
   "cell_type": "markdown",
   "metadata": {},
   "source": [
    "Utilizo PCA"
   ]
  },
  {
   "cell_type": "code",
   "execution_count": 22,
   "metadata": {},
   "outputs": [
    {
     "name": "stdout",
     "output_type": "stream",
     "text": [
      "Varianza de cada componente: [0.33110845 0.2850708  0.04722584 0.04493964]\n",
      "Varianza explicada total: 0.708344734231794\n"
     ]
    }
   ],
   "source": [
    "pca = PCA(n_components=4)\n",
    "\n",
    "\n",
    "pca_x_entr = pca.fit_transform(X_entr_sca)\n",
    "pca_x_val = pca.fit_transform(X_val_sca)\n",
    "pca_x_eval = pca.fit_transform(X_evaluacion_sca)\n",
    "\n",
    "print('Varianza de cada componente:', pca.explained_variance_ratio_)\n",
    "print('Varianza explicada total:', sum(pca.explained_variance_ratio_))\n"
   ]
  },
  {
   "cell_type": "markdown",
   "metadata": {},
   "source": [
    "> ### 1. Random Forest"
   ]
  },
  {
   "cell_type": "code",
   "execution_count": 23,
   "metadata": {},
   "outputs": [
    {
     "data": {
      "text/plain": [
       "GridSearchCV(cv=5, error_score='raise-deprecating',\n",
       "       estimator=RandomForestClassifier(bootstrap=True, class_weight=None, criterion='gini',\n",
       "            max_depth=None, max_features='auto', max_leaf_nodes=None,\n",
       "            min_impurity_decrease=0.0, min_impurity_split=None,\n",
       "            min_samples_leaf=1, min_samples_split=2,\n",
       "            min_weight_fraction_leaf=0.0, n_estimators='warn', n_jobs=None,\n",
       "            oob_score=False, random_state=None, verbose=0,\n",
       "            warm_start=False),\n",
       "       fit_params=None, iid='warn', n_jobs=None,\n",
       "       param_grid={'n_estimators': [5, 10, 15, 20], 'max_features': ['auto', 'sqrt', 'log2'], 'max_depth': [2, 3, 4, 5, 6, 7, 8], 'criterion': ['gini', 'entropy']},\n",
       "       pre_dispatch='2*n_jobs', refit=True, return_train_score='warn',\n",
       "       scoring='accuracy', verbose=0)"
      ]
     },
     "execution_count": 23,
     "metadata": {},
     "output_type": "execute_result"
    }
   ],
   "source": [
    "parameters = {\n",
    "    'n_estimators': [5,10,15,20],\n",
    "    'max_features': ['auto', 'sqrt', 'log2'],\n",
    "    'max_depth' : [2,3,4,5,6,7,8],\n",
    "    'criterion' :['gini', 'entropy']\n",
    "}\n",
    "\n",
    "randomForest = RandomForestClassifier()\n",
    "grid_RandomForest = GridSearchCV(randomForest, parameters, cv=5, scoring='accuracy')\n",
    "grid_RandomForest.fit(pca_x_entr, y_entr)\n"
   ]
  },
  {
   "cell_type": "code",
   "execution_count": 24,
   "metadata": {},
   "outputs": [
    {
     "name": "stdout",
     "output_type": "stream",
     "text": [
      "mejor score:  0.5644444444444444\n",
      "mejor estimador:  RandomForestClassifier(bootstrap=True, class_weight=None, criterion='gini',\n",
      "            max_depth=2, max_features='log2', max_leaf_nodes=None,\n",
      "            min_impurity_decrease=0.0, min_impurity_split=None,\n",
      "            min_samples_leaf=1, min_samples_split=2,\n",
      "            min_weight_fraction_leaf=0.0, n_estimators=15, n_jobs=None,\n",
      "            oob_score=False, random_state=None, verbose=0,\n",
      "            warm_start=False)\n",
      "mejores parametros:  {'criterion': 'gini', 'max_depth': 2, 'max_features': 'log2', 'n_estimators': 15}\n"
     ]
    }
   ],
   "source": [
    "print('mejor score: ', grid_RandomForest.best_score_)\n",
    "print('mejor estimador: ', grid_RandomForest.best_estimator_)\n",
    "print('mejores parametros: ', grid_RandomForest.best_params_)"
   ]
  },
  {
   "cell_type": "code",
   "execution_count": 25,
   "metadata": {},
   "outputs": [
    {
     "name": "stdout",
     "output_type": "stream",
     "text": [
      "accuracy para entrenamiento:  0.5777777777777777\n",
      "accuracy para validacion:  0.46875\n"
     ]
    }
   ],
   "source": [
    "acc_train = accuracy_score(y_entr, grid_RandomForest.predict(pca_x_entr))\n",
    "acc_valid = accuracy_score(y_val, grid_RandomForest.predict(pca_x_val))\n",
    "\n",
    "print('accuracy para entrenamiento: ', acc_train)\n",
    "print('accuracy para validacion: ', acc_valid)\n",
    "\n",
    "\n",
    "test_score_dict['RandomForest'] = {\n",
    "        'entrenamiento': accuracy_score(y_entr, grid_RandomForest.predict(pca_x_entr)),\n",
    "        'validacion' : accuracy_score(y_val, grid_RandomForest.predict(pca_x_val))\n",
    "}   \n"
   ]
  },
  {
   "cell_type": "markdown",
   "metadata": {},
   "source": [
    "> ### 2. Ada Boost"
   ]
  },
  {
   "cell_type": "code",
   "execution_count": 26,
   "metadata": {},
   "outputs": [
    {
     "name": "stdout",
     "output_type": "stream",
     "text": [
      "mejor score:  0.56\n",
      "mejor estimador:  AdaBoostClassifier(algorithm='SAMME', base_estimator=None, learning_rate=1.0,\n",
      "          n_estimators=50, random_state=None)\n",
      "mejores parametros:  {'algorithm': 'SAMME', 'n_estimators': 50}\n"
     ]
    }
   ],
   "source": [
    "# TODO\n",
    "\n",
    "parameters = {\n",
    "    'n_estimators': [5,10,15,20,50,100,200],\n",
    "    'algorithm'  : ['SAMME','SAMME.R']\n",
    "}\n",
    "\n",
    "adaBoost = AdaBoostClassifier()\n",
    "grid_Ada = GridSearchCV(adaBoost, parameters, cv=5, scoring='accuracy')\n",
    "grid_Ada.fit(pca_x_entr, y_entr)\n",
    "\n",
    "print('mejor score: ', grid_Ada.best_score_)\n",
    "print('mejor estimador: ', grid_Ada.best_estimator_)\n",
    "print('mejores parametros: ', grid_Ada.best_params_)"
   ]
  },
  {
   "cell_type": "code",
   "execution_count": 27,
   "metadata": {},
   "outputs": [
    {
     "name": "stdout",
     "output_type": "stream",
     "text": [
      "accuracy para entrenamiento:  0.6355555555555555\n",
      "accuracy para validacion:  0.40625\n"
     ]
    }
   ],
   "source": [
    "acc_train = accuracy_score(y_entr, grid_Ada.predict(pca_x_entr))\n",
    "acc_valid = accuracy_score(y_val, grid_Ada.predict(pca_x_val))\n",
    "\n",
    "print('accuracy para entrenamiento: ', acc_train)\n",
    "print('accuracy para validacion: ', acc_valid)\n",
    "\n",
    "\n",
    "test_score_dict['Ada Boost'] = {\n",
    "        'entrenamiento': accuracy_score(y_entr, grid_Ada.predict(pca_x_entr)),\n",
    "        'validacion' : accuracy_score(y_val, grid_Ada.predict(pca_x_val))\n",
    "}   "
   ]
  },
  {
   "cell_type": "markdown",
   "metadata": {},
   "source": [
    "> ### 3. K-Neighbors"
   ]
  },
  {
   "cell_type": "code",
   "execution_count": 28,
   "metadata": {},
   "outputs": [
    {
     "name": "stdout",
     "output_type": "stream",
     "text": [
      "mejor score:  0.5511111111111111\n",
      "mejor estimador:  KNeighborsClassifier(algorithm='auto', leaf_size=30, metric='euclidean',\n",
      "           metric_params=None, n_jobs=None, n_neighbors=14, p=2,\n",
      "           weights='uniform')\n",
      "mejores parametros:  {'metric': 'euclidean', 'n_neighbors': 14, 'weights': 'uniform'}\n",
      "accuracy para entrenamiento:  0.5688888888888889\n",
      "accuracy para validacion:  0.34375\n"
     ]
    }
   ],
   "source": [
    "# TODO\n",
    "\n",
    "parameters = {\n",
    "    'n_neighbors':range(2,50),\n",
    "    'metric':['euclidean', 'manhattan','minkowski'],\n",
    "    'weights':['uniform', 'distance']\n",
    "}\n",
    "\n",
    "KNNmodel = KNeighborsClassifier()\n",
    "grid_KNN = GridSearchCV(KNNmodel, parameters, cv=5, scoring='accuracy')\n",
    "grid_KNN.fit(pca_x_entr, y_entr)\n",
    "\n",
    "print('mejor score: ', grid_KNN.best_score_)\n",
    "print('mejor estimador: ', grid_KNN.best_estimator_)\n",
    "print('mejores parametros: ', grid_KNN.best_params_)\n",
    "\n",
    "acc_train = accuracy_score(y_entr, grid_KNN.predict(pca_x_entr))\n",
    "acc_valid = accuracy_score(y_val, grid_KNN.predict(pca_x_val))\n",
    "\n",
    "print('accuracy para entrenamiento: ', acc_train)\n",
    "print('accuracy para validacion: ', acc_valid)\n",
    "\n",
    "test_score_dict['K-Neighbors'] = {\n",
    "        'entrenamiento': accuracy_score(y_entr, grid_KNN.predict(pca_x_entr)),\n",
    "        'validacion' : accuracy_score(y_val, grid_KNN.predict(pca_x_val))\n",
    "}   "
   ]
  },
  {
   "cell_type": "markdown",
   "metadata": {},
   "source": [
    "> ### 4. Logistic Regression"
   ]
  },
  {
   "cell_type": "code",
   "execution_count": 29,
   "metadata": {},
   "outputs": [
    {
     "name": "stdout",
     "output_type": "stream",
     "text": [
      "mejor score:  0.5555555555555556\n",
      "mejor estimador:  LogisticRegression(C=0.01, class_weight=None, dual=False, fit_intercept=True,\n",
      "          intercept_scaling=1, max_iter=100, multi_class='warn',\n",
      "          n_jobs=None, penalty='l1', random_state=None, solver='liblinear',\n",
      "          tol=0.0001, verbose=0, warm_start=False)\n",
      "mejores parametros:  {'C': 0.01, 'penalty': 'l1', 'solver': 'liblinear'}\n",
      "accuracy para entrenamiento:  0.5555555555555556\n",
      "accuracy para validacion:  0.40625\n"
     ]
    }
   ],
   "source": [
    "# TODO\n",
    "parameters = {\n",
    "    'C':np.logspace(-3,3,7),\n",
    "    'penalty':['l1', 'l2'],\n",
    "    'solver':  ['liblinear', 'saga']\n",
    "}\n",
    "\n",
    "LRmodel = LogisticRegression()\n",
    "grid_LogisRegression = GridSearchCV(LRmodel, parameters, cv=5, scoring='accuracy')\n",
    "grid_LogisRegression.fit(pca_x_entr, y_entr)\n",
    "\n",
    "print('mejor score: ', grid_LogisRegression.best_score_)\n",
    "print('mejor estimador: ', grid_LogisRegression.best_estimator_)\n",
    "print('mejores parametros: ', grid_LogisRegression.best_params_)\n",
    "\n",
    "acc_train = accuracy_score(y_entr, grid_LogisRegression.predict(pca_x_entr))\n",
    "acc_valid = accuracy_score(y_val, grid_LogisRegression.predict(pca_x_val))\n",
    "\n",
    "print('accuracy para entrenamiento: ', acc_train)\n",
    "print('accuracy para validacion: ', acc_valid)\n",
    "\n",
    "test_score_dict['Logistic Regression'] = {\n",
    "        'entrenamiento': accuracy_score(y_entr, grid_LogisRegression.predict(pca_x_entr)),\n",
    "        'validacion' : accuracy_score(y_val, grid_LogisRegression.predict(pca_x_val))\n",
    "}   "
   ]
  },
  {
   "cell_type": "markdown",
   "metadata": {},
   "source": [
    "> ### Matriz de Confusion\n",
    "\n",
    "Plotear la matriz de confusion del mejor modelo sobre el conjunto de **Test**.\n",
    "\n",
    "**Hint**: Usar la funcion `plot_confusion_matrix` del modulo `utils`."
   ]
  },
  {
   "cell_type": "code",
   "execution_count": 30,
   "metadata": {},
   "outputs": [
    {
     "data": {
      "text/html": [
       "<div>\n",
       "<style scoped>\n",
       "    .dataframe tbody tr th:only-of-type {\n",
       "        vertical-align: middle;\n",
       "    }\n",
       "\n",
       "    .dataframe tbody tr th {\n",
       "        vertical-align: top;\n",
       "    }\n",
       "\n",
       "    .dataframe thead th {\n",
       "        text-align: right;\n",
       "    }\n",
       "</style>\n",
       "<table border=\"1\" class=\"dataframe\">\n",
       "  <thead>\n",
       "    <tr style=\"text-align: right;\">\n",
       "      <th></th>\n",
       "      <th>baseline LogReg</th>\n",
       "      <th>RandomForest</th>\n",
       "      <th>Ada Boost</th>\n",
       "      <th>K-Neighbors</th>\n",
       "      <th>Logistic Regression</th>\n",
       "    </tr>\n",
       "  </thead>\n",
       "  <tbody>\n",
       "    <tr>\n",
       "      <th>entrenamiento</th>\n",
       "      <td>0.635556</td>\n",
       "      <td>0.577778</td>\n",
       "      <td>0.635556</td>\n",
       "      <td>0.568889</td>\n",
       "      <td>0.555556</td>\n",
       "    </tr>\n",
       "    <tr>\n",
       "      <th>validacion</th>\n",
       "      <td>0.562500</td>\n",
       "      <td>0.468750</td>\n",
       "      <td>0.406250</td>\n",
       "      <td>0.343750</td>\n",
       "      <td>0.406250</td>\n",
       "    </tr>\n",
       "  </tbody>\n",
       "</table>\n",
       "</div>"
      ],
      "text/plain": [
       "               baseline LogReg  RandomForest  Ada Boost  K-Neighbors  \\\n",
       "entrenamiento         0.635556      0.577778   0.635556     0.568889   \n",
       "validacion            0.562500      0.468750   0.406250     0.343750   \n",
       "\n",
       "               Logistic Regression  \n",
       "entrenamiento             0.555556  \n",
       "validacion                0.406250  "
      ]
     },
     "execution_count": 30,
     "metadata": {},
     "output_type": "execute_result"
    }
   ],
   "source": [
    "pd.DataFrame(test_score_dict)"
   ]
  },
  {
   "cell_type": "code",
   "execution_count": 31,
   "metadata": {},
   "outputs": [
    {
     "data": {
      "text/plain": [
       "<Figure size 360x360 with 0 Axes>"
      ]
     },
     "metadata": {},
     "output_type": "display_data"
    },
    {
     "data": {
      "image/png": "[encoded data removed]",
      "text/plain": [
       "<Figure size 432x288 with 2 Axes>"
      ]
     },
     "metadata": {},
     "output_type": "display_data"
    }
   ],
   "source": [
    "from utils import plot_confusion_matrix\n",
    "#import scikitplot as skplt\n",
    "\n",
    "plt.figure(figsize=(5, 5))\n",
    "skplt.metrics.plot_confusion_matrix(y_evaluacion,grid_RandomForest.predict(pca_x_eval),my_order)\n",
    "plt.show()"
   ]
  },
  {
   "cell_type": "markdown",
   "metadata": {},
   "source": [
    "> ### Classification Report\n",
    "\n",
    "Imprimir el `classification_report` y explicar lo que refleja este reporte."
   ]
  },
  {
   "cell_type": "code",
   "execution_count": 32,
   "metadata": {},
   "outputs": [
    {
     "name": "stdout",
     "output_type": "stream",
     "text": [
      "Reporte de clasificación para el mejor clasificador (sobre Conjunto de test):\n",
      "              precision    recall  f1-score   support\n",
      "\n",
      "        Draw       0.33      0.07      0.11        15\n",
      "        Lose       0.17      0.18      0.17        11\n",
      "         Win       0.58      0.74      0.65        39\n",
      "\n",
      "   micro avg       0.49      0.49      0.49        65\n",
      "   macro avg       0.36      0.33      0.31        65\n",
      "weighted avg       0.45      0.49      0.45        65\n",
      "\n",
      "\n"
     ]
    }
   ],
   "source": [
    "print(\"Reporte de clasificación para el mejor clasificador (sobre Conjunto de test):\")\n",
    "print(classification_report(y_evaluacion, grid_RandomForest.predict(pca_x_eval)), end=\"\\n\\n\")"
   ]
  },
  {
   "cell_type": "code",
   "execution_count": null,
   "metadata": {},
   "outputs": [],
   "source": []
  },
  {
   "cell_type": "code",
   "execution_count": null,
   "metadata": {},
   "outputs": [],
   "source": []
  }
 ],
 "metadata": {
  "kernelspec": {
   "display_name": "Python 3",
   "language": "python",
   "name": "python3"
  },
  "language_info": {
   "codemirror_mode": {
    "name": "ipython",
    "version": 3
   },
   "file_extension": ".py",
   "mimetype": "text/x-python",
   "name": "python",
   "nbconvert_exporter": "python",
   "pygments_lexer": "ipython3",
   "version": "3.7.3"
  }
 },
 "nbformat": 4,
 "nbformat_minor": 4
}
