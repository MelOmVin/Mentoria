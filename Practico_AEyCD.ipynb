{
 "cells": [
  {
   "cell_type": "markdown",
   "metadata": {},
   "source": [
    "# Practico Mentoria - Analisis Exploratorio y Curación de Datos\n",
    "\n",
    "---"
   ]
  },
  {
   "cell_type": "markdown",
   "metadata": {},
   "source": [
    "<h1><FONT COLOR=\"#e600e5\"> Autor: Melania Omonte</FONT></h1>"
   ]
  },
  {
   "cell_type": "markdown",
   "metadata": {},
   "source": [
    "### Importaciones"
   ]
  },
  {
   "cell_type": "code",
   "execution_count": 181,
   "metadata": {},
   "outputs": [],
   "source": [
    "%matplotlib inline\n",
    "\n",
    "import numpy as np\n",
    "import pandas as pd\n",
    "import matplotlib.pyplot as plt\n",
    "import seaborn as sns\n",
    "import scipy as sp\n",
    "\n",
    "from sklearn import preprocessing\n",
    "\n",
    "import warnings\n",
    "warnings.filterwarnings('ignore')"
   ]
  },
  {
   "cell_type": "code",
   "execution_count": 150,
   "metadata": {},
   "outputs": [],
   "source": [
    "# Seteamos una semilla para Reproducibilidad\n",
    "np.random.seed(0)"
   ]
  },
  {
   "cell_type": "markdown",
   "metadata": {},
   "source": [
    "<h3> Carga de los Datasets </h3>"
   ]
  },
  {
   "cell_type": "code",
   "execution_count": 151,
   "metadata": {},
   "outputs": [],
   "source": [
    "player_df = pd.read_csv('./Datasets/football_player.csv')\n",
    "team_df = pd.read_csv('./Datasets/football_team.csv')\n",
    "match_df = pd.read_csv('./Datasets/football_match.csv')"
   ]
  },
  {
   "cell_type": "markdown",
   "metadata": {},
   "source": [
    "<h2>Exploremos un poco los Datasets</h2>\n",
    "\n",
    "<h3>Players Dataset</h3>"
   ]
  },
  {
   "cell_type": "code",
   "execution_count": 152,
   "metadata": {},
   "outputs": [
    {
     "name": "stdout",
     "output_type": "stream",
     "text": [
      "Shape 'player_df' = (11060, 40)\n"
     ]
    },
    {
     "data": {
      "text/html": [
       "<div>\n",
       "<style scoped>\n",
       "    .dataframe tbody tr th:only-of-type {\n",
       "        vertical-align: middle;\n",
       "    }\n",
       "\n",
       "    .dataframe tbody tr th {\n",
       "        vertical-align: top;\n",
       "    }\n",
       "\n",
       "    .dataframe thead th {\n",
       "        text-align: right;\n",
       "    }\n",
       "</style>\n",
       "<table border=\"1\" class=\"dataframe\">\n",
       "  <thead>\n",
       "    <tr style=\"text-align: right;\">\n",
       "      <th></th>\n",
       "      <th>player name</th>\n",
       "      <th>birthday</th>\n",
       "      <th>height_m</th>\n",
       "      <th>weight_kg</th>\n",
       "      <th>overall_rating</th>\n",
       "      <th>potential</th>\n",
       "      <th>preferred foot</th>\n",
       "      <th>crossing</th>\n",
       "      <th>finishing</th>\n",
       "      <th>heading accuracy</th>\n",
       "      <th>...</th>\n",
       "      <th>vision</th>\n",
       "      <th>penalties</th>\n",
       "      <th>marking</th>\n",
       "      <th>standing tackle</th>\n",
       "      <th>sliding tackle</th>\n",
       "      <th>gk_diving</th>\n",
       "      <th>gk_handling</th>\n",
       "      <th>gk_kicking</th>\n",
       "      <th>gk_positioning</th>\n",
       "      <th>gk_reflexes</th>\n",
       "    </tr>\n",
       "  </thead>\n",
       "  <tbody>\n",
       "    <tr>\n",
       "      <th>1534</th>\n",
       "      <td>Carlos Acuna</td>\n",
       "      <td>1988-06-23</td>\n",
       "      <td>1.78</td>\n",
       "      <td>71.21</td>\n",
       "      <td>67.33</td>\n",
       "      <td>71.81</td>\n",
       "      <td>right</td>\n",
       "      <td>51.52</td>\n",
       "      <td>67.43</td>\n",
       "      <td>68.86</td>\n",
       "      <td>...</td>\n",
       "      <td>44.00</td>\n",
       "      <td>66.67</td>\n",
       "      <td>25.52</td>\n",
       "      <td>30.05</td>\n",
       "      <td>29.00</td>\n",
       "      <td>15.24</td>\n",
       "      <td>12.43</td>\n",
       "      <td>16.43</td>\n",
       "      <td>12.52</td>\n",
       "      <td>11.76</td>\n",
       "    </tr>\n",
       "    <tr>\n",
       "      <th>7238</th>\n",
       "      <td>Max Christiansen</td>\n",
       "      <td>1996-09-25</td>\n",
       "      <td>1.88</td>\n",
       "      <td>83.91</td>\n",
       "      <td>64.09</td>\n",
       "      <td>74.45</td>\n",
       "      <td>right</td>\n",
       "      <td>47.73</td>\n",
       "      <td>37.73</td>\n",
       "      <td>60.82</td>\n",
       "      <td>...</td>\n",
       "      <td>56.45</td>\n",
       "      <td>47.00</td>\n",
       "      <td>53.36</td>\n",
       "      <td>67.00</td>\n",
       "      <td>62.36</td>\n",
       "      <td>14.73</td>\n",
       "      <td>6.73</td>\n",
       "      <td>10.73</td>\n",
       "      <td>13.73</td>\n",
       "      <td>8.73</td>\n",
       "    </tr>\n",
       "    <tr>\n",
       "      <th>10999</th>\n",
       "      <td>Zakaria M'Sila</td>\n",
       "      <td>1992-04-06</td>\n",
       "      <td>1.78</td>\n",
       "      <td>74.84</td>\n",
       "      <td>59.00</td>\n",
       "      <td>65.10</td>\n",
       "      <td>left</td>\n",
       "      <td>57.30</td>\n",
       "      <td>50.90</td>\n",
       "      <td>50.20</td>\n",
       "      <td>...</td>\n",
       "      <td>54.30</td>\n",
       "      <td>54.80</td>\n",
       "      <td>27.50</td>\n",
       "      <td>32.70</td>\n",
       "      <td>23.30</td>\n",
       "      <td>12.30</td>\n",
       "      <td>15.30</td>\n",
       "      <td>10.30</td>\n",
       "      <td>7.30</td>\n",
       "      <td>13.30</td>\n",
       "    </tr>\n",
       "    <tr>\n",
       "      <th>2669</th>\n",
       "      <td>Dimitrija Lazarevski</td>\n",
       "      <td>1982-09-23</td>\n",
       "      <td>1.78</td>\n",
       "      <td>74.84</td>\n",
       "      <td>59.00</td>\n",
       "      <td>61.00</td>\n",
       "      <td>left</td>\n",
       "      <td>51.00</td>\n",
       "      <td>38.00</td>\n",
       "      <td>54.00</td>\n",
       "      <td>...</td>\n",
       "      <td>NaN</td>\n",
       "      <td>61.00</td>\n",
       "      <td>60.00</td>\n",
       "      <td>61.00</td>\n",
       "      <td>NaN</td>\n",
       "      <td>5.00</td>\n",
       "      <td>22.00</td>\n",
       "      <td>45.00</td>\n",
       "      <td>22.00</td>\n",
       "      <td>22.00</td>\n",
       "    </tr>\n",
       "    <tr>\n",
       "      <th>1403</th>\n",
       "      <td>Bruma</td>\n",
       "      <td>1994-10-24</td>\n",
       "      <td>1.73</td>\n",
       "      <td>66.22</td>\n",
       "      <td>75.26</td>\n",
       "      <td>85.71</td>\n",
       "      <td>right</td>\n",
       "      <td>67.26</td>\n",
       "      <td>64.34</td>\n",
       "      <td>51.09</td>\n",
       "      <td>...</td>\n",
       "      <td>66.89</td>\n",
       "      <td>70.94</td>\n",
       "      <td>20.71</td>\n",
       "      <td>26.29</td>\n",
       "      <td>22.20</td>\n",
       "      <td>10.09</td>\n",
       "      <td>12.09</td>\n",
       "      <td>7.09</td>\n",
       "      <td>11.09</td>\n",
       "      <td>7.09</td>\n",
       "    </tr>\n",
       "  </tbody>\n",
       "</table>\n",
       "<p>5 rows × 40 columns</p>\n",
       "</div>"
      ],
      "text/plain": [
       "                player name    birthday  height_m  weight_kg  overall_rating  \\\n",
       "1534           Carlos Acuna  1988-06-23      1.78      71.21           67.33   \n",
       "7238       Max Christiansen  1996-09-25      1.88      83.91           64.09   \n",
       "10999        Zakaria M'Sila  1992-04-06      1.78      74.84           59.00   \n",
       "2669   Dimitrija Lazarevski  1982-09-23      1.78      74.84           59.00   \n",
       "1403                  Bruma  1994-10-24      1.73      66.22           75.26   \n",
       "\n",
       "       potential preferred foot  crossing  finishing  heading accuracy  ...  \\\n",
       "1534       71.81          right     51.52      67.43             68.86  ...   \n",
       "7238       74.45          right     47.73      37.73             60.82  ...   \n",
       "10999      65.10           left     57.30      50.90             50.20  ...   \n",
       "2669       61.00           left     51.00      38.00             54.00  ...   \n",
       "1403       85.71          right     67.26      64.34             51.09  ...   \n",
       "\n",
       "       vision  penalties  marking  standing tackle  sliding tackle  gk_diving  \\\n",
       "1534    44.00      66.67    25.52            30.05           29.00      15.24   \n",
       "7238    56.45      47.00    53.36            67.00           62.36      14.73   \n",
       "10999   54.30      54.80    27.50            32.70           23.30      12.30   \n",
       "2669      NaN      61.00    60.00            61.00             NaN       5.00   \n",
       "1403    66.89      70.94    20.71            26.29           22.20      10.09   \n",
       "\n",
       "       gk_handling  gk_kicking  gk_positioning  gk_reflexes  \n",
       "1534         12.43       16.43           12.52        11.76  \n",
       "7238          6.73       10.73           13.73         8.73  \n",
       "10999        15.30       10.30            7.30        13.30  \n",
       "2669         22.00       45.00           22.00        22.00  \n",
       "1403         12.09        7.09           11.09         7.09  \n",
       "\n",
       "[5 rows x 40 columns]"
      ]
     },
     "execution_count": 152,
     "metadata": {},
     "output_type": "execute_result"
    }
   ],
   "source": [
    "print(\"Shape 'player_df' = {}\".format(player_df.shape))\n",
    "player_df.sample(5)"
   ]
  },
  {
   "cell_type": "markdown",
   "metadata": {},
   "source": [
    "<h3>Team Dataset</h3>"
   ]
  },
  {
   "cell_type": "code",
   "execution_count": 153,
   "metadata": {},
   "outputs": [
    {
     "name": "stdout",
     "output_type": "stream",
     "text": [
      "Shape 'team_df'   = (288, 22)\n"
     ]
    },
    {
     "data": {
      "text/html": [
       "<div>\n",
       "<style scoped>\n",
       "    .dataframe tbody tr th:only-of-type {\n",
       "        vertical-align: middle;\n",
       "    }\n",
       "\n",
       "    .dataframe tbody tr th {\n",
       "        vertical-align: top;\n",
       "    }\n",
       "\n",
       "    .dataframe thead th {\n",
       "        text-align: right;\n",
       "    }\n",
       "</style>\n",
       "<table border=\"1\" class=\"dataframe\">\n",
       "  <thead>\n",
       "    <tr style=\"text-align: right;\">\n",
       "      <th></th>\n",
       "      <th>team long name</th>\n",
       "      <th>team short name</th>\n",
       "      <th>buildUpPlaySpeed</th>\n",
       "      <th>buildUpPlaySpeedClass</th>\n",
       "      <th>buildUpPlayDribblingClass</th>\n",
       "      <th>buildUpPlayPassing</th>\n",
       "      <th>buildUpPlayPassingClass</th>\n",
       "      <th>buildUpPlayPositioningClass</th>\n",
       "      <th>chanceCreationPassing</th>\n",
       "      <th>chanceCreationPassingClass</th>\n",
       "      <th>...</th>\n",
       "      <th>chanceCreationShooting</th>\n",
       "      <th>chanceCreationShootingClass</th>\n",
       "      <th>chanceCreationPositioningClass</th>\n",
       "      <th>defencePressure</th>\n",
       "      <th>defencePressureClass</th>\n",
       "      <th>defenceAggression</th>\n",
       "      <th>defenceAggressionClass</th>\n",
       "      <th>defenceTeamWidth</th>\n",
       "      <th>defenceTeamWidthClass</th>\n",
       "      <th>defenceDefenderLineClass</th>\n",
       "    </tr>\n",
       "  </thead>\n",
       "  <tbody>\n",
       "    <tr>\n",
       "      <th>185</th>\n",
       "      <td>Lechia Gdańsk</td>\n",
       "      <td>LGD</td>\n",
       "      <td>50.83</td>\n",
       "      <td>Balanced</td>\n",
       "      <td>Little</td>\n",
       "      <td>48.33</td>\n",
       "      <td>Mixed</td>\n",
       "      <td>Organised</td>\n",
       "      <td>54.83</td>\n",
       "      <td>Normal</td>\n",
       "      <td>...</td>\n",
       "      <td>61.33</td>\n",
       "      <td>Lots</td>\n",
       "      <td>Organised</td>\n",
       "      <td>50.33</td>\n",
       "      <td>Medium</td>\n",
       "      <td>58.83</td>\n",
       "      <td>Press</td>\n",
       "      <td>56.67</td>\n",
       "      <td>Normal</td>\n",
       "      <td>Cover</td>\n",
       "    </tr>\n",
       "    <tr>\n",
       "      <th>222</th>\n",
       "      <td>FC Penafiel</td>\n",
       "      <td>PEN</td>\n",
       "      <td>54.00</td>\n",
       "      <td>Balanced</td>\n",
       "      <td>Normal</td>\n",
       "      <td>39.00</td>\n",
       "      <td>Mixed</td>\n",
       "      <td>Organised</td>\n",
       "      <td>52.00</td>\n",
       "      <td>Normal</td>\n",
       "      <td>...</td>\n",
       "      <td>38.00</td>\n",
       "      <td>Normal</td>\n",
       "      <td>Organised</td>\n",
       "      <td>40.00</td>\n",
       "      <td>Medium</td>\n",
       "      <td>35.00</td>\n",
       "      <td>Press</td>\n",
       "      <td>46.00</td>\n",
       "      <td>Normal</td>\n",
       "      <td>Cover</td>\n",
       "    </tr>\n",
       "    <tr>\n",
       "      <th>198</th>\n",
       "      <td>Pogoń Szczecin</td>\n",
       "      <td>POG</td>\n",
       "      <td>55.67</td>\n",
       "      <td>Balanced</td>\n",
       "      <td>Little</td>\n",
       "      <td>42.00</td>\n",
       "      <td>Mixed</td>\n",
       "      <td>Organised</td>\n",
       "      <td>53.33</td>\n",
       "      <td>Normal</td>\n",
       "      <td>...</td>\n",
       "      <td>57.00</td>\n",
       "      <td>Normal</td>\n",
       "      <td>Organised</td>\n",
       "      <td>51.33</td>\n",
       "      <td>Medium</td>\n",
       "      <td>53.67</td>\n",
       "      <td>Press</td>\n",
       "      <td>52.33</td>\n",
       "      <td>Normal</td>\n",
       "      <td>Cover</td>\n",
       "    </tr>\n",
       "    <tr>\n",
       "      <th>197</th>\n",
       "      <td>Podbeskidzie Bielsko-Biała</td>\n",
       "      <td>POD</td>\n",
       "      <td>62.00</td>\n",
       "      <td>Balanced</td>\n",
       "      <td>Little</td>\n",
       "      <td>58.50</td>\n",
       "      <td>Mixed</td>\n",
       "      <td>Organised</td>\n",
       "      <td>57.00</td>\n",
       "      <td>Normal</td>\n",
       "      <td>...</td>\n",
       "      <td>45.50</td>\n",
       "      <td>Normal</td>\n",
       "      <td>Organised</td>\n",
       "      <td>38.00</td>\n",
       "      <td>Deep</td>\n",
       "      <td>46.00</td>\n",
       "      <td>Press</td>\n",
       "      <td>43.00</td>\n",
       "      <td>Normal</td>\n",
       "      <td>Cover</td>\n",
       "    </tr>\n",
       "    <tr>\n",
       "      <th>173</th>\n",
       "      <td>Excelsior</td>\n",
       "      <td>EXC</td>\n",
       "      <td>57.67</td>\n",
       "      <td>Balanced</td>\n",
       "      <td>Little</td>\n",
       "      <td>60.00</td>\n",
       "      <td>Mixed</td>\n",
       "      <td>Organised</td>\n",
       "      <td>62.67</td>\n",
       "      <td>Normal</td>\n",
       "      <td>...</td>\n",
       "      <td>44.00</td>\n",
       "      <td>Normal</td>\n",
       "      <td>Organised</td>\n",
       "      <td>25.67</td>\n",
       "      <td>Deep</td>\n",
       "      <td>39.33</td>\n",
       "      <td>Press</td>\n",
       "      <td>33.67</td>\n",
       "      <td>Narrow</td>\n",
       "      <td>Cover</td>\n",
       "    </tr>\n",
       "  </tbody>\n",
       "</table>\n",
       "<p>5 rows × 22 columns</p>\n",
       "</div>"
      ],
      "text/plain": [
       "                 team long name team short name  buildUpPlaySpeed  \\\n",
       "185               Lechia Gdańsk             LGD             50.83   \n",
       "222                 FC Penafiel             PEN             54.00   \n",
       "198              Pogoń Szczecin             POG             55.67   \n",
       "197  Podbeskidzie Bielsko-Biała             POD             62.00   \n",
       "173                   Excelsior             EXC             57.67   \n",
       "\n",
       "    buildUpPlaySpeedClass buildUpPlayDribblingClass  buildUpPlayPassing  \\\n",
       "185              Balanced                    Little               48.33   \n",
       "222              Balanced                    Normal               39.00   \n",
       "198              Balanced                    Little               42.00   \n",
       "197              Balanced                    Little               58.50   \n",
       "173              Balanced                    Little               60.00   \n",
       "\n",
       "    buildUpPlayPassingClass buildUpPlayPositioningClass  \\\n",
       "185                   Mixed                   Organised   \n",
       "222                   Mixed                   Organised   \n",
       "198                   Mixed                   Organised   \n",
       "197                   Mixed                   Organised   \n",
       "173                   Mixed                   Organised   \n",
       "\n",
       "     chanceCreationPassing chanceCreationPassingClass  ...  \\\n",
       "185                  54.83                     Normal  ...   \n",
       "222                  52.00                     Normal  ...   \n",
       "198                  53.33                     Normal  ...   \n",
       "197                  57.00                     Normal  ...   \n",
       "173                  62.67                     Normal  ...   \n",
       "\n",
       "     chanceCreationShooting chanceCreationShootingClass  \\\n",
       "185                   61.33                        Lots   \n",
       "222                   38.00                      Normal   \n",
       "198                   57.00                      Normal   \n",
       "197                   45.50                      Normal   \n",
       "173                   44.00                      Normal   \n",
       "\n",
       "     chanceCreationPositioningClass defencePressure defencePressureClass  \\\n",
       "185                       Organised           50.33               Medium   \n",
       "222                       Organised           40.00               Medium   \n",
       "198                       Organised           51.33               Medium   \n",
       "197                       Organised           38.00                 Deep   \n",
       "173                       Organised           25.67                 Deep   \n",
       "\n",
       "     defenceAggression defenceAggressionClass  defenceTeamWidth  \\\n",
       "185              58.83                  Press             56.67   \n",
       "222              35.00                  Press             46.00   \n",
       "198              53.67                  Press             52.33   \n",
       "197              46.00                  Press             43.00   \n",
       "173              39.33                  Press             33.67   \n",
       "\n",
       "    defenceTeamWidthClass  defenceDefenderLineClass  \n",
       "185                Normal                     Cover  \n",
       "222                Normal                     Cover  \n",
       "198                Normal                     Cover  \n",
       "197                Normal                     Cover  \n",
       "173                Narrow                     Cover  \n",
       "\n",
       "[5 rows x 22 columns]"
      ]
     },
     "execution_count": 153,
     "metadata": {},
     "output_type": "execute_result"
    }
   ],
   "source": [
    "print(\"Shape 'team_df'   = {}\".format(team_df.shape))\n",
    "team_df.sample(5)"
   ]
  },
  {
   "cell_type": "markdown",
   "metadata": {},
   "source": [
    "<h3>Match Dataset</h3>"
   ]
  },
  {
   "cell_type": "code",
   "execution_count": 154,
   "metadata": {},
   "outputs": [
    {
     "name": "stdout",
     "output_type": "stream",
     "text": [
      "Shape 'match_df'  = (25979, 12)\n"
     ]
    },
    {
     "data": {
      "text/html": [
       "<div>\n",
       "<style scoped>\n",
       "    .dataframe tbody tr th:only-of-type {\n",
       "        vertical-align: middle;\n",
       "    }\n",
       "\n",
       "    .dataframe tbody tr th {\n",
       "        vertical-align: top;\n",
       "    }\n",
       "\n",
       "    .dataframe thead th {\n",
       "        text-align: right;\n",
       "    }\n",
       "</style>\n",
       "<table border=\"1\" class=\"dataframe\">\n",
       "  <thead>\n",
       "    <tr style=\"text-align: right;\">\n",
       "      <th></th>\n",
       "      <th>country name</th>\n",
       "      <th>league name</th>\n",
       "      <th>season</th>\n",
       "      <th>stage</th>\n",
       "      <th>date</th>\n",
       "      <th>home team long name</th>\n",
       "      <th>home short long name</th>\n",
       "      <th>away team long name</th>\n",
       "      <th>away short long name</th>\n",
       "      <th>home team goal</th>\n",
       "      <th>away team goal</th>\n",
       "      <th>total goal</th>\n",
       "    </tr>\n",
       "  </thead>\n",
       "  <tbody>\n",
       "    <tr>\n",
       "      <th>12042</th>\n",
       "      <td>Italy</td>\n",
       "      <td>Italy Serie A</td>\n",
       "      <td>2012/2013</td>\n",
       "      <td>35</td>\n",
       "      <td>2013-05-05 00:00:00</td>\n",
       "      <td>Catania</td>\n",
       "      <td>CAT</td>\n",
       "      <td>Siena</td>\n",
       "      <td>SIE</td>\n",
       "      <td>3</td>\n",
       "      <td>0</td>\n",
       "      <td>3</td>\n",
       "    </tr>\n",
       "    <tr>\n",
       "      <th>8575</th>\n",
       "      <td>Germany</td>\n",
       "      <td>Germany 1. Bundesliga</td>\n",
       "      <td>2010/2011</td>\n",
       "      <td>25</td>\n",
       "      <td>2011-03-05 00:00:00</td>\n",
       "      <td>VfB Stuttgart</td>\n",
       "      <td>STU</td>\n",
       "      <td>FC Schalke 04</td>\n",
       "      <td>S04</td>\n",
       "      <td>1</td>\n",
       "      <td>0</td>\n",
       "      <td>1</td>\n",
       "    </tr>\n",
       "    <tr>\n",
       "      <th>9067</th>\n",
       "      <td>Germany</td>\n",
       "      <td>Germany 1. Bundesliga</td>\n",
       "      <td>2012/2013</td>\n",
       "      <td>12</td>\n",
       "      <td>2012-11-17 00:00:00</td>\n",
       "      <td>Eintracht Frankfurt</td>\n",
       "      <td>EFR</td>\n",
       "      <td>FC Augsburg</td>\n",
       "      <td>AUG</td>\n",
       "      <td>4</td>\n",
       "      <td>2</td>\n",
       "      <td>6</td>\n",
       "    </tr>\n",
       "    <tr>\n",
       "      <th>13165</th>\n",
       "      <td>Italy</td>\n",
       "      <td>Italy Serie A</td>\n",
       "      <td>2015/2016</td>\n",
       "      <td>34</td>\n",
       "      <td>2016-04-21 00:00:00</td>\n",
       "      <td>Milan</td>\n",
       "      <td>ACM</td>\n",
       "      <td>Carpi</td>\n",
       "      <td>CAP</td>\n",
       "      <td>0</td>\n",
       "      <td>0</td>\n",
       "      <td>0</td>\n",
       "    </tr>\n",
       "    <tr>\n",
       "      <th>14904</th>\n",
       "      <td>Netherlands</td>\n",
       "      <td>Netherlands Eredivisie</td>\n",
       "      <td>2013/2014</td>\n",
       "      <td>2</td>\n",
       "      <td>2013-08-10 00:00:00</td>\n",
       "      <td>Heracles Almelo</td>\n",
       "      <td>HER</td>\n",
       "      <td>PEC Zwolle</td>\n",
       "      <td>ZWO</td>\n",
       "      <td>1</td>\n",
       "      <td>3</td>\n",
       "      <td>4</td>\n",
       "    </tr>\n",
       "  </tbody>\n",
       "</table>\n",
       "</div>"
      ],
      "text/plain": [
       "      country name             league name     season  stage  \\\n",
       "12042        Italy           Italy Serie A  2012/2013     35   \n",
       "8575       Germany   Germany 1. Bundesliga  2010/2011     25   \n",
       "9067       Germany   Germany 1. Bundesliga  2012/2013     12   \n",
       "13165        Italy           Italy Serie A  2015/2016     34   \n",
       "14904  Netherlands  Netherlands Eredivisie  2013/2014      2   \n",
       "\n",
       "                      date  home team long name home short long name  \\\n",
       "12042  2013-05-05 00:00:00              Catania                  CAT   \n",
       "8575   2011-03-05 00:00:00        VfB Stuttgart                  STU   \n",
       "9067   2012-11-17 00:00:00  Eintracht Frankfurt                  EFR   \n",
       "13165  2016-04-21 00:00:00                Milan                  ACM   \n",
       "14904  2013-08-10 00:00:00      Heracles Almelo                  HER   \n",
       "\n",
       "      away team long name away short long name  home team goal  \\\n",
       "12042               Siena                  SIE               3   \n",
       "8575        FC Schalke 04                  S04               1   \n",
       "9067          FC Augsburg                  AUG               4   \n",
       "13165               Carpi                  CAP               0   \n",
       "14904          PEC Zwolle                  ZWO               1   \n",
       "\n",
       "       away team goal  total goal  \n",
       "12042               0           3  \n",
       "8575                0           1  \n",
       "9067                2           6  \n",
       "13165               0           0  \n",
       "14904               3           4  "
      ]
     },
     "execution_count": 154,
     "metadata": {},
     "output_type": "execute_result"
    }
   ],
   "source": [
    "print(\"Shape 'match_df'  = {}\".format(match_df.shape))\n",
    "match_df.sample(5)"
   ]
  },
  {
   "cell_type": "markdown",
   "metadata": {},
   "source": [
    "<h2>Exploremos un poco los Datasets y sus correspondientes Tipos</h2>\n",
    "\n",
    "<h3>Players Dtypes</h3>\n"
   ]
  },
  {
   "cell_type": "code",
   "execution_count": 155,
   "metadata": {},
   "outputs": [
    {
     "data": {
      "text/plain": [
       "player name            object\n",
       "birthday               object\n",
       "height_m              float64\n",
       "weight_kg             float64\n",
       "overall_rating        float64\n",
       "potential             float64\n",
       "preferred foot         object\n",
       "crossing              float64\n",
       "finishing             float64\n",
       "heading accuracy      float64\n",
       "short passing         float64\n",
       "volleys               float64\n",
       "dribbling             float64\n",
       "curve                 float64\n",
       "free kick accuracy    float64\n",
       "long passing          float64\n",
       "ball control          float64\n",
       "acceleration          float64\n",
       "sprint speed          float64\n",
       "agility               float64\n",
       "reactions             float64\n",
       "balance               float64\n",
       "shot power            float64\n",
       "jumping               float64\n",
       "stamina               float64\n",
       "strength              float64\n",
       "long shots            float64\n",
       "aggression            float64\n",
       "interceptions         float64\n",
       "positioning           float64\n",
       "vision                float64\n",
       "penalties             float64\n",
       "marking               float64\n",
       "standing tackle       float64\n",
       "sliding tackle        float64\n",
       "gk_diving             float64\n",
       "gk_handling           float64\n",
       "gk_kicking            float64\n",
       "gk_positioning        float64\n",
       "gk_reflexes           float64\n",
       "dtype: object"
      ]
     },
     "execution_count": 155,
     "metadata": {},
     "output_type": "execute_result"
    }
   ],
   "source": [
    "player_df.dtypes"
   ]
  },
  {
   "cell_type": "markdown",
   "metadata": {},
   "source": [
    "<h3>Match Dtypes</h3>"
   ]
  },
  {
   "cell_type": "code",
   "execution_count": 156,
   "metadata": {},
   "outputs": [
    {
     "data": {
      "text/plain": [
       "country name            object\n",
       "league name             object\n",
       "season                  object\n",
       "stage                    int64\n",
       "date                    object\n",
       "home team long name     object\n",
       "home short long name    object\n",
       "away team long name     object\n",
       "away short long name    object\n",
       "home team goal           int64\n",
       "away team goal           int64\n",
       "total goal               int64\n",
       "dtype: object"
      ]
     },
     "execution_count": 156,
     "metadata": {},
     "output_type": "execute_result"
    }
   ],
   "source": [
    "match_df.dtypes"
   ]
  },
  {
   "cell_type": "markdown",
   "metadata": {},
   "source": [
    "<h3>Team Dtypes</h3>"
   ]
  },
  {
   "cell_type": "code",
   "execution_count": 157,
   "metadata": {},
   "outputs": [
    {
     "data": {
      "text/plain": [
       "team long name                     object\n",
       "team short name                    object\n",
       "buildUpPlaySpeed                  float64\n",
       "buildUpPlaySpeedClass              object\n",
       "buildUpPlayDribblingClass          object\n",
       "buildUpPlayPassing                float64\n",
       "buildUpPlayPassingClass            object\n",
       "buildUpPlayPositioningClass        object\n",
       "chanceCreationPassing             float64\n",
       "chanceCreationPassingClass         object\n",
       "chanceCreationCrossing            float64\n",
       "chanceCreationCrossingClass        object\n",
       "chanceCreationShooting            float64\n",
       "chanceCreationShootingClass        object\n",
       "chanceCreationPositioningClass     object\n",
       "defencePressure                   float64\n",
       "defencePressureClass               object\n",
       "defenceAggression                 float64\n",
       "defenceAggressionClass             object\n",
       "defenceTeamWidth                  float64\n",
       "defenceTeamWidthClass              object\n",
       "defenceDefenderLineClass           object\n",
       "dtype: object"
      ]
     },
     "execution_count": 157,
     "metadata": {},
     "output_type": "execute_result"
    }
   ],
   "source": [
    "team_df.dtypes"
   ]
  },
  {
   "cell_type": "markdown",
   "metadata": {},
   "source": [
    "---"
   ]
  },
  {
   "cell_type": "markdown",
   "metadata": {},
   "source": [
    "# 1. Importacion de los datos"
   ]
  },
  {
   "cell_type": "markdown",
   "metadata": {},
   "source": [
    "<h2>Calculemos el rango de fechas de los partidos</h2>"
   ]
  },
  {
   "cell_type": "markdown",
   "metadata": {},
   "source": [
    "Antes de calcular el rango de fechas de los partidos, debemos validar que tipo de objeto es la fecha"
   ]
  },
  {
   "cell_type": "code",
   "execution_count": 158,
   "metadata": {},
   "outputs": [
    {
     "data": {
      "text/plain": [
       "dtype('O')"
      ]
     },
     "execution_count": 158,
     "metadata": {},
     "output_type": "execute_result"
    }
   ],
   "source": [
    "match_df.dtypes['date']"
   ]
  },
  {
   "cell_type": "markdown",
   "metadata": {},
   "source": [
    "Como la fecha es un campo del tipo object, no podremos calcular el rango solicitado,\n",
    "por lo tanto tendremos que cambiar el tipo, asi podemos generar el valor solicitado."
   ]
  },
  {
   "cell_type": "markdown",
   "metadata": {},
   "source": [
    "<h3>Modificamos el tipo \"date\", para poder calcular el rango</h3>"
   ]
  },
  {
   "cell_type": "code",
   "execution_count": 159,
   "metadata": {},
   "outputs": [],
   "source": [
    "\n",
    "match_df2 = pd.read_csv(\"./Datasets/football_match.csv\", parse_dates=[\"date\"])\n",
    "\n"
   ]
  },
  {
   "cell_type": "markdown",
   "metadata": {},
   "source": [
    "<h3>Visualizamos que haya cambiado el tipo \"date\"</h3>"
   ]
  },
  {
   "cell_type": "code",
   "execution_count": 160,
   "metadata": {},
   "outputs": [
    {
     "data": {
      "text/plain": [
       "dtype('<M8[ns]')"
      ]
     },
     "execution_count": 160,
     "metadata": {},
     "output_type": "execute_result"
    }
   ],
   "source": [
    "\n",
    "match_df2.dtypes['date']\n"
   ]
  },
  {
   "cell_type": "markdown",
   "metadata": {},
   "source": [
    "Validamos que se cambio el tipo a datetime64[ns]"
   ]
  },
  {
   "cell_type": "markdown",
   "metadata": {},
   "source": [
    "<h3>Realizamos la diferencia, para poder calcular el rango solicitado</h3>"
   ]
  },
  {
   "cell_type": "code",
   "execution_count": 161,
   "metadata": {},
   "outputs": [
    {
     "data": {
      "text/plain": [
       "Timedelta('2868 days 00:00:00')"
      ]
     },
     "execution_count": 161,
     "metadata": {},
     "output_type": "execute_result"
    }
   ],
   "source": [
    "match_df2['date'].max() - match_df2['date'].min()"
   ]
  },
  {
   "cell_type": "markdown",
   "metadata": {},
   "source": [
    "<h3><FONT COLOR=\"#008f39\">Rta: El rango de fechas entre partidos es 2868 dias.</FONT></h3>"
   ]
  },
  {
   "cell_type": "markdown",
   "metadata": {},
   "source": [
    "# 2. Etiquetas de variables/columnas: no usar caracteres especiales"
   ]
  },
  {
   "cell_type": "markdown",
   "metadata": {},
   "source": [
    "Chequar que no haya caracteres fuera de `a-Z`, `0-9` y `_` en los nombres de columnas de los Dataframes:\n",
    "* `player_df`\n",
    "* `team_df`\n",
    "* `match_df`"
   ]
  },
  {
   "cell_type": "markdown",
   "metadata": {},
   "source": [
    "<h2>Exploramos los Datasets y validamos que no hayan caracteres fuera de lo solicitado</h2>\n",
    "\n",
    "<h3>Match DataSet</h3>"
   ]
  },
  {
   "cell_type": "code",
   "execution_count": 162,
   "metadata": {},
   "outputs": [
    {
     "data": {
      "text/plain": [
       "Index(['country name', 'league name', 'home team long name',\n",
       "       'home short long name', 'away team long name', 'away short long name',\n",
       "       'home team goal', 'away team goal', 'total goal'],\n",
       "      dtype='object')"
      ]
     },
     "execution_count": 162,
     "metadata": {},
     "output_type": "execute_result"
    }
   ],
   "source": [
    "match_df.columns[~match_df.columns.str.match(r'^(\\w+)$')]"
   ]
  },
  {
   "cell_type": "markdown",
   "metadata": {},
   "source": [
    "Chequeamos que existen varias columnas que tienen caracteres fuera de \"a-Z, 0-9 y _\" en el dataset match."
   ]
  },
  {
   "cell_type": "markdown",
   "metadata": {},
   "source": [
    "<h3>Player DataSet</h3>"
   ]
  },
  {
   "cell_type": "code",
   "execution_count": 163,
   "metadata": {},
   "outputs": [
    {
     "data": {
      "text/plain": [
       "Index(['player name', 'preferred foot', 'heading accuracy', 'short passing',\n",
       "       'free kick accuracy', 'long passing', 'ball control', 'sprint speed',\n",
       "       'shot power', 'long shots', 'standing tackle', 'sliding tackle'],\n",
       "      dtype='object')"
      ]
     },
     "execution_count": 163,
     "metadata": {},
     "output_type": "execute_result"
    }
   ],
   "source": [
    "player_df.columns[~player_df.columns.str.match(r'^(\\w+)$')]"
   ]
  },
  {
   "cell_type": "markdown",
   "metadata": {},
   "source": [
    "Chequeamos que existen varias columnas que tienen caracteres fuera de \"a-Z, 0-9 y _\" en el dataset player."
   ]
  },
  {
   "cell_type": "markdown",
   "metadata": {},
   "source": [
    "<h3>Team DataSet</h3>"
   ]
  },
  {
   "cell_type": "code",
   "execution_count": 164,
   "metadata": {},
   "outputs": [
    {
     "data": {
      "text/plain": [
       "Index(['team long name', 'team short name'], dtype='object')"
      ]
     },
     "execution_count": 164,
     "metadata": {},
     "output_type": "execute_result"
    }
   ],
   "source": [
    "team_df.columns[~team_df.columns.str.match(r'^(\\w+)$')]"
   ]
  },
  {
   "cell_type": "markdown",
   "metadata": {},
   "source": [
    "Chequeamos que existen 2 columnas que tienen caracteres fuera de \"a-Z, 0-9 y _\" en el dataset team."
   ]
  },
  {
   "cell_type": "markdown",
   "metadata": {},
   "source": [
    "<h3>Reemplazamos los valores fuera de \"a-Z, 0-9 y _\" en el dataset team</h3>"
   ]
  },
  {
   "cell_type": "code",
   "execution_count": 165,
   "metadata": {},
   "outputs": [
    {
     "data": {
      "text/html": [
       "<div>\n",
       "<style scoped>\n",
       "    .dataframe tbody tr th:only-of-type {\n",
       "        vertical-align: middle;\n",
       "    }\n",
       "\n",
       "    .dataframe tbody tr th {\n",
       "        vertical-align: top;\n",
       "    }\n",
       "\n",
       "    .dataframe thead th {\n",
       "        text-align: right;\n",
       "    }\n",
       "</style>\n",
       "<table border=\"1\" class=\"dataframe\">\n",
       "  <thead>\n",
       "    <tr style=\"text-align: right;\">\n",
       "      <th></th>\n",
       "      <th>team_long_name</th>\n",
       "      <th>team_short_name</th>\n",
       "      <th>buildUpPlaySpeed</th>\n",
       "      <th>buildUpPlaySpeedClass</th>\n",
       "      <th>buildUpPlayDribblingClass</th>\n",
       "      <th>buildUpPlayPassing</th>\n",
       "      <th>buildUpPlayPassingClass</th>\n",
       "      <th>buildUpPlayPositioningClass</th>\n",
       "      <th>chanceCreationPassing</th>\n",
       "      <th>chanceCreationPassingClass</th>\n",
       "      <th>...</th>\n",
       "      <th>chanceCreationShooting</th>\n",
       "      <th>chanceCreationShootingClass</th>\n",
       "      <th>chanceCreationPositioningClass</th>\n",
       "      <th>defencePressure</th>\n",
       "      <th>defencePressureClass</th>\n",
       "      <th>defenceAggression</th>\n",
       "      <th>defenceAggressionClass</th>\n",
       "      <th>defenceTeamWidth</th>\n",
       "      <th>defenceTeamWidthClass</th>\n",
       "      <th>defenceDefenderLineClass</th>\n",
       "    </tr>\n",
       "  </thead>\n",
       "  <tbody>\n",
       "    <tr>\n",
       "      <th>0</th>\n",
       "      <td>KRC Genk</td>\n",
       "      <td>GEN</td>\n",
       "      <td>56.33</td>\n",
       "      <td>Balanced</td>\n",
       "      <td>Little</td>\n",
       "      <td>44.33</td>\n",
       "      <td>Mixed</td>\n",
       "      <td>Organised</td>\n",
       "      <td>55.67</td>\n",
       "      <td>Normal</td>\n",
       "      <td>...</td>\n",
       "      <td>55.83</td>\n",
       "      <td>Normal</td>\n",
       "      <td>Organised</td>\n",
       "      <td>49.17</td>\n",
       "      <td>Medium</td>\n",
       "      <td>50.67</td>\n",
       "      <td>Press</td>\n",
       "      <td>59.83</td>\n",
       "      <td>Normal</td>\n",
       "      <td>Cover</td>\n",
       "    </tr>\n",
       "    <tr>\n",
       "      <th>1</th>\n",
       "      <td>Beerschot AC</td>\n",
       "      <td>BAC</td>\n",
       "      <td>46.00</td>\n",
       "      <td>Balanced</td>\n",
       "      <td>Little</td>\n",
       "      <td>41.50</td>\n",
       "      <td>Mixed</td>\n",
       "      <td>Organised</td>\n",
       "      <td>46.00</td>\n",
       "      <td>Normal</td>\n",
       "      <td>...</td>\n",
       "      <td>53.75</td>\n",
       "      <td>Normal</td>\n",
       "      <td>Organised</td>\n",
       "      <td>48.25</td>\n",
       "      <td>Medium</td>\n",
       "      <td>49.00</td>\n",
       "      <td>Press</td>\n",
       "      <td>58.75</td>\n",
       "      <td>Normal</td>\n",
       "      <td>Cover</td>\n",
       "    </tr>\n",
       "    <tr>\n",
       "      <th>2</th>\n",
       "      <td>SV Zulte-Waregem</td>\n",
       "      <td>ZUL</td>\n",
       "      <td>55.50</td>\n",
       "      <td>Balanced</td>\n",
       "      <td>Little</td>\n",
       "      <td>52.67</td>\n",
       "      <td>Mixed</td>\n",
       "      <td>Organised</td>\n",
       "      <td>50.00</td>\n",
       "      <td>Normal</td>\n",
       "      <td>...</td>\n",
       "      <td>41.50</td>\n",
       "      <td>Little</td>\n",
       "      <td>Organised</td>\n",
       "      <td>48.67</td>\n",
       "      <td>Medium</td>\n",
       "      <td>56.17</td>\n",
       "      <td>Press</td>\n",
       "      <td>47.83</td>\n",
       "      <td>Normal</td>\n",
       "      <td>Cover</td>\n",
       "    </tr>\n",
       "    <tr>\n",
       "      <th>3</th>\n",
       "      <td>Sporting Lokeren</td>\n",
       "      <td>LOK</td>\n",
       "      <td>64.00</td>\n",
       "      <td>Balanced</td>\n",
       "      <td>Little</td>\n",
       "      <td>53.50</td>\n",
       "      <td>Mixed</td>\n",
       "      <td>Organised</td>\n",
       "      <td>44.00</td>\n",
       "      <td>Normal</td>\n",
       "      <td>...</td>\n",
       "      <td>54.33</td>\n",
       "      <td>Normal</td>\n",
       "      <td>Organised</td>\n",
       "      <td>48.83</td>\n",
       "      <td>Medium</td>\n",
       "      <td>55.17</td>\n",
       "      <td>Press</td>\n",
       "      <td>55.50</td>\n",
       "      <td>Normal</td>\n",
       "      <td>Cover</td>\n",
       "    </tr>\n",
       "    <tr>\n",
       "      <th>4</th>\n",
       "      <td>KSV Cercle Brugge</td>\n",
       "      <td>CEB</td>\n",
       "      <td>53.67</td>\n",
       "      <td>Balanced</td>\n",
       "      <td>Little</td>\n",
       "      <td>44.17</td>\n",
       "      <td>Mixed</td>\n",
       "      <td>Organised</td>\n",
       "      <td>59.00</td>\n",
       "      <td>Normal</td>\n",
       "      <td>...</td>\n",
       "      <td>48.00</td>\n",
       "      <td>Normal</td>\n",
       "      <td>Organised</td>\n",
       "      <td>60.17</td>\n",
       "      <td>Medium</td>\n",
       "      <td>49.67</td>\n",
       "      <td>Press</td>\n",
       "      <td>64.67</td>\n",
       "      <td>Normal</td>\n",
       "      <td>Cover</td>\n",
       "    </tr>\n",
       "  </tbody>\n",
       "</table>\n",
       "<p>5 rows × 22 columns</p>\n",
       "</div>"
      ],
      "text/plain": [
       "      team_long_name team_short_name  buildUpPlaySpeed buildUpPlaySpeedClass  \\\n",
       "0           KRC Genk             GEN             56.33              Balanced   \n",
       "1       Beerschot AC             BAC             46.00              Balanced   \n",
       "2   SV Zulte-Waregem             ZUL             55.50              Balanced   \n",
       "3   Sporting Lokeren             LOK             64.00              Balanced   \n",
       "4  KSV Cercle Brugge             CEB             53.67              Balanced   \n",
       "\n",
       "  buildUpPlayDribblingClass  buildUpPlayPassing buildUpPlayPassingClass  \\\n",
       "0                    Little               44.33                   Mixed   \n",
       "1                    Little               41.50                   Mixed   \n",
       "2                    Little               52.67                   Mixed   \n",
       "3                    Little               53.50                   Mixed   \n",
       "4                    Little               44.17                   Mixed   \n",
       "\n",
       "  buildUpPlayPositioningClass  chanceCreationPassing  \\\n",
       "0                   Organised                  55.67   \n",
       "1                   Organised                  46.00   \n",
       "2                   Organised                  50.00   \n",
       "3                   Organised                  44.00   \n",
       "4                   Organised                  59.00   \n",
       "\n",
       "  chanceCreationPassingClass  ...  chanceCreationShooting  \\\n",
       "0                     Normal  ...                   55.83   \n",
       "1                     Normal  ...                   53.75   \n",
       "2                     Normal  ...                   41.50   \n",
       "3                     Normal  ...                   54.33   \n",
       "4                     Normal  ...                   48.00   \n",
       "\n",
       "  chanceCreationShootingClass  chanceCreationPositioningClass defencePressure  \\\n",
       "0                      Normal                       Organised           49.17   \n",
       "1                      Normal                       Organised           48.25   \n",
       "2                      Little                       Organised           48.67   \n",
       "3                      Normal                       Organised           48.83   \n",
       "4                      Normal                       Organised           60.17   \n",
       "\n",
       "  defencePressureClass  defenceAggression defenceAggressionClass  \\\n",
       "0               Medium              50.67                  Press   \n",
       "1               Medium              49.00                  Press   \n",
       "2               Medium              56.17                  Press   \n",
       "3               Medium              55.17                  Press   \n",
       "4               Medium              49.67                  Press   \n",
       "\n",
       "   defenceTeamWidth defenceTeamWidthClass  defenceDefenderLineClass  \n",
       "0             59.83                Normal                     Cover  \n",
       "1             58.75                Normal                     Cover  \n",
       "2             47.83                Normal                     Cover  \n",
       "3             55.50                Normal                     Cover  \n",
       "4             64.67                Normal                     Cover  \n",
       "\n",
       "[5 rows x 22 columns]"
      ]
     },
     "execution_count": 165,
     "metadata": {},
     "output_type": "execute_result"
    }
   ],
   "source": [
    "team_df.columns = team_df.columns.str.replace(' ', '_')\n",
    "team_df.head()"
   ]
  },
  {
   "cell_type": "markdown",
   "metadata": {},
   "source": [
    "<h3>Validamos que se hayan reemplazado bien los campos en el dataset Team</h3>"
   ]
  },
  {
   "cell_type": "code",
   "execution_count": 166,
   "metadata": {},
   "outputs": [
    {
     "data": {
      "text/plain": [
       "Index([], dtype='object')"
      ]
     },
     "execution_count": 166,
     "metadata": {},
     "output_type": "execute_result"
    }
   ],
   "source": [
    "team_df.columns[~team_df.columns.str.match(r'^(\\w+)$')]"
   ]
  },
  {
   "cell_type": "markdown",
   "metadata": {},
   "source": [
    "Validamos que se reemplazaron exitosamente los campos, ya que la consulta anterior no nos devuelve ningun campo."
   ]
  },
  {
   "cell_type": "markdown",
   "metadata": {},
   "source": [
    "<h3>Reemplazamos los valores fuera de \"a-Z, 0-9 y _\" en el dataset Player</h3>"
   ]
  },
  {
   "cell_type": "code",
   "execution_count": 167,
   "metadata": {},
   "outputs": [
    {
     "data": {
      "text/html": [
       "<div>\n",
       "<style scoped>\n",
       "    .dataframe tbody tr th:only-of-type {\n",
       "        vertical-align: middle;\n",
       "    }\n",
       "\n",
       "    .dataframe tbody tr th {\n",
       "        vertical-align: top;\n",
       "    }\n",
       "\n",
       "    .dataframe thead th {\n",
       "        text-align: right;\n",
       "    }\n",
       "</style>\n",
       "<table border=\"1\" class=\"dataframe\">\n",
       "  <thead>\n",
       "    <tr style=\"text-align: right;\">\n",
       "      <th></th>\n",
       "      <th>player_name</th>\n",
       "      <th>birthday</th>\n",
       "      <th>height_m</th>\n",
       "      <th>weight_kg</th>\n",
       "      <th>overall_rating</th>\n",
       "      <th>potential</th>\n",
       "      <th>preferred_foot</th>\n",
       "      <th>crossing</th>\n",
       "      <th>finishing</th>\n",
       "      <th>heading_accuracy</th>\n",
       "      <th>...</th>\n",
       "      <th>vision</th>\n",
       "      <th>penalties</th>\n",
       "      <th>marking</th>\n",
       "      <th>standing_tackle</th>\n",
       "      <th>sliding_tackle</th>\n",
       "      <th>gk_diving</th>\n",
       "      <th>gk_handling</th>\n",
       "      <th>gk_kicking</th>\n",
       "      <th>gk_positioning</th>\n",
       "      <th>gk_reflexes</th>\n",
       "    </tr>\n",
       "  </thead>\n",
       "  <tbody>\n",
       "    <tr>\n",
       "      <th>0</th>\n",
       "      <td>Aaron Appindangoye</td>\n",
       "      <td>1992-02-29</td>\n",
       "      <td>1.83</td>\n",
       "      <td>84.82</td>\n",
       "      <td>63.60</td>\n",
       "      <td>67.60</td>\n",
       "      <td>right</td>\n",
       "      <td>48.60</td>\n",
       "      <td>43.60</td>\n",
       "      <td>70.60</td>\n",
       "      <td>...</td>\n",
       "      <td>53.60</td>\n",
       "      <td>47.60</td>\n",
       "      <td>63.80</td>\n",
       "      <td>66.00</td>\n",
       "      <td>67.80</td>\n",
       "      <td>5.60</td>\n",
       "      <td>10.60</td>\n",
       "      <td>9.60</td>\n",
       "      <td>7.60</td>\n",
       "      <td>7.60</td>\n",
       "    </tr>\n",
       "    <tr>\n",
       "      <th>1</th>\n",
       "      <td>Aaron Cresswell</td>\n",
       "      <td>1989-12-15</td>\n",
       "      <td>1.70</td>\n",
       "      <td>66.22</td>\n",
       "      <td>66.97</td>\n",
       "      <td>74.48</td>\n",
       "      <td>left</td>\n",
       "      <td>70.79</td>\n",
       "      <td>49.45</td>\n",
       "      <td>52.94</td>\n",
       "      <td>...</td>\n",
       "      <td>57.45</td>\n",
       "      <td>53.12</td>\n",
       "      <td>69.39</td>\n",
       "      <td>68.79</td>\n",
       "      <td>71.52</td>\n",
       "      <td>12.18</td>\n",
       "      <td>8.67</td>\n",
       "      <td>14.24</td>\n",
       "      <td>10.36</td>\n",
       "      <td>12.91</td>\n",
       "    </tr>\n",
       "    <tr>\n",
       "      <th>2</th>\n",
       "      <td>Aaron Doran</td>\n",
       "      <td>1991-05-13</td>\n",
       "      <td>1.70</td>\n",
       "      <td>73.94</td>\n",
       "      <td>67.00</td>\n",
       "      <td>74.19</td>\n",
       "      <td>right</td>\n",
       "      <td>68.12</td>\n",
       "      <td>57.92</td>\n",
       "      <td>58.69</td>\n",
       "      <td>...</td>\n",
       "      <td>69.38</td>\n",
       "      <td>60.54</td>\n",
       "      <td>22.04</td>\n",
       "      <td>21.12</td>\n",
       "      <td>21.35</td>\n",
       "      <td>14.04</td>\n",
       "      <td>11.81</td>\n",
       "      <td>17.73</td>\n",
       "      <td>10.12</td>\n",
       "      <td>13.50</td>\n",
       "    </tr>\n",
       "    <tr>\n",
       "      <th>3</th>\n",
       "      <td>Aaron Galindo</td>\n",
       "      <td>1982-05-08</td>\n",
       "      <td>1.83</td>\n",
       "      <td>89.81</td>\n",
       "      <td>69.09</td>\n",
       "      <td>70.78</td>\n",
       "      <td>right</td>\n",
       "      <td>57.22</td>\n",
       "      <td>26.26</td>\n",
       "      <td>69.26</td>\n",
       "      <td>...</td>\n",
       "      <td>53.78</td>\n",
       "      <td>41.74</td>\n",
       "      <td>70.61</td>\n",
       "      <td>70.65</td>\n",
       "      <td>68.04</td>\n",
       "      <td>14.17</td>\n",
       "      <td>11.17</td>\n",
       "      <td>22.87</td>\n",
       "      <td>11.17</td>\n",
       "      <td>10.17</td>\n",
       "    </tr>\n",
       "    <tr>\n",
       "      <th>4</th>\n",
       "      <td>Aaron Hughes</td>\n",
       "      <td>1979-11-08</td>\n",
       "      <td>1.83</td>\n",
       "      <td>69.85</td>\n",
       "      <td>73.24</td>\n",
       "      <td>74.68</td>\n",
       "      <td>right</td>\n",
       "      <td>45.08</td>\n",
       "      <td>38.84</td>\n",
       "      <td>73.04</td>\n",
       "      <td>...</td>\n",
       "      <td>46.48</td>\n",
       "      <td>52.96</td>\n",
       "      <td>77.60</td>\n",
       "      <td>76.04</td>\n",
       "      <td>74.60</td>\n",
       "      <td>8.28</td>\n",
       "      <td>8.32</td>\n",
       "      <td>24.92</td>\n",
       "      <td>12.84</td>\n",
       "      <td>11.92</td>\n",
       "    </tr>\n",
       "  </tbody>\n",
       "</table>\n",
       "<p>5 rows × 40 columns</p>\n",
       "</div>"
      ],
      "text/plain": [
       "          player_name    birthday  height_m  weight_kg  overall_rating  \\\n",
       "0  Aaron Appindangoye  1992-02-29      1.83      84.82           63.60   \n",
       "1     Aaron Cresswell  1989-12-15      1.70      66.22           66.97   \n",
       "2         Aaron Doran  1991-05-13      1.70      73.94           67.00   \n",
       "3       Aaron Galindo  1982-05-08      1.83      89.81           69.09   \n",
       "4        Aaron Hughes  1979-11-08      1.83      69.85           73.24   \n",
       "\n",
       "   potential preferred_foot  crossing  finishing  heading_accuracy  ...  \\\n",
       "0      67.60          right     48.60      43.60             70.60  ...   \n",
       "1      74.48           left     70.79      49.45             52.94  ...   \n",
       "2      74.19          right     68.12      57.92             58.69  ...   \n",
       "3      70.78          right     57.22      26.26             69.26  ...   \n",
       "4      74.68          right     45.08      38.84             73.04  ...   \n",
       "\n",
       "   vision  penalties  marking  standing_tackle  sliding_tackle  gk_diving  \\\n",
       "0   53.60      47.60    63.80            66.00           67.80       5.60   \n",
       "1   57.45      53.12    69.39            68.79           71.52      12.18   \n",
       "2   69.38      60.54    22.04            21.12           21.35      14.04   \n",
       "3   53.78      41.74    70.61            70.65           68.04      14.17   \n",
       "4   46.48      52.96    77.60            76.04           74.60       8.28   \n",
       "\n",
       "   gk_handling  gk_kicking  gk_positioning  gk_reflexes  \n",
       "0        10.60        9.60            7.60         7.60  \n",
       "1         8.67       14.24           10.36        12.91  \n",
       "2        11.81       17.73           10.12        13.50  \n",
       "3        11.17       22.87           11.17        10.17  \n",
       "4         8.32       24.92           12.84        11.92  \n",
       "\n",
       "[5 rows x 40 columns]"
      ]
     },
     "execution_count": 167,
     "metadata": {},
     "output_type": "execute_result"
    }
   ],
   "source": [
    "player_df.columns = player_df.columns.str.replace(' ', '_')\n",
    "player_df.head()"
   ]
  },
  {
   "cell_type": "markdown",
   "metadata": {},
   "source": [
    "<h3>Validamos que se hayan reemplazado bien los campos en el dataset Player</h3>"
   ]
  },
  {
   "cell_type": "code",
   "execution_count": 168,
   "metadata": {},
   "outputs": [
    {
     "data": {
      "text/plain": [
       "Index([], dtype='object')"
      ]
     },
     "execution_count": 168,
     "metadata": {},
     "output_type": "execute_result"
    }
   ],
   "source": [
    "player_df.columns[~player_df.columns.str.match(r'^(\\w+)$')]"
   ]
  },
  {
   "cell_type": "markdown",
   "metadata": {},
   "source": [
    "Validamos que se reemplazaron exitosamente los campos, ya que la consulta anterior no nos devuelve ningun campo."
   ]
  },
  {
   "cell_type": "markdown",
   "metadata": {},
   "source": [
    "<h3>Reemplazamos los valores fuera de \"a-Z, 0-9 y _\" en el dataset Match</h3>"
   ]
  },
  {
   "cell_type": "code",
   "execution_count": 169,
   "metadata": {},
   "outputs": [
    {
     "data": {
      "text/html": [
       "<div>\n",
       "<style scoped>\n",
       "    .dataframe tbody tr th:only-of-type {\n",
       "        vertical-align: middle;\n",
       "    }\n",
       "\n",
       "    .dataframe tbody tr th {\n",
       "        vertical-align: top;\n",
       "    }\n",
       "\n",
       "    .dataframe thead th {\n",
       "        text-align: right;\n",
       "    }\n",
       "</style>\n",
       "<table border=\"1\" class=\"dataframe\">\n",
       "  <thead>\n",
       "    <tr style=\"text-align: right;\">\n",
       "      <th></th>\n",
       "      <th>country_name</th>\n",
       "      <th>league_name</th>\n",
       "      <th>season</th>\n",
       "      <th>stage</th>\n",
       "      <th>date</th>\n",
       "      <th>home_team_long_name</th>\n",
       "      <th>home_short_long_name</th>\n",
       "      <th>away_team_long_name</th>\n",
       "      <th>away_short_long_name</th>\n",
       "      <th>home_team_goal</th>\n",
       "      <th>away_team_goal</th>\n",
       "      <th>total_goal</th>\n",
       "    </tr>\n",
       "  </thead>\n",
       "  <tbody>\n",
       "    <tr>\n",
       "      <th>0</th>\n",
       "      <td>Belgium</td>\n",
       "      <td>Belgium Jupiler League</td>\n",
       "      <td>2008/2009</td>\n",
       "      <td>1</td>\n",
       "      <td>2008-08-17 00:00:00</td>\n",
       "      <td>KRC Genk</td>\n",
       "      <td>GEN</td>\n",
       "      <td>Beerschot AC</td>\n",
       "      <td>BAC</td>\n",
       "      <td>1</td>\n",
       "      <td>1</td>\n",
       "      <td>2</td>\n",
       "    </tr>\n",
       "    <tr>\n",
       "      <th>1</th>\n",
       "      <td>Belgium</td>\n",
       "      <td>Belgium Jupiler League</td>\n",
       "      <td>2008/2009</td>\n",
       "      <td>1</td>\n",
       "      <td>2008-08-16 00:00:00</td>\n",
       "      <td>SV Zulte-Waregem</td>\n",
       "      <td>ZUL</td>\n",
       "      <td>Sporting Lokeren</td>\n",
       "      <td>LOK</td>\n",
       "      <td>0</td>\n",
       "      <td>0</td>\n",
       "      <td>0</td>\n",
       "    </tr>\n",
       "    <tr>\n",
       "      <th>2</th>\n",
       "      <td>Belgium</td>\n",
       "      <td>Belgium Jupiler League</td>\n",
       "      <td>2008/2009</td>\n",
       "      <td>1</td>\n",
       "      <td>2008-08-16 00:00:00</td>\n",
       "      <td>KSV Cercle Brugge</td>\n",
       "      <td>CEB</td>\n",
       "      <td>RSC Anderlecht</td>\n",
       "      <td>AND</td>\n",
       "      <td>0</td>\n",
       "      <td>3</td>\n",
       "      <td>3</td>\n",
       "    </tr>\n",
       "    <tr>\n",
       "      <th>3</th>\n",
       "      <td>Belgium</td>\n",
       "      <td>Belgium Jupiler League</td>\n",
       "      <td>2008/2009</td>\n",
       "      <td>1</td>\n",
       "      <td>2008-08-17 00:00:00</td>\n",
       "      <td>KAA Gent</td>\n",
       "      <td>GEN</td>\n",
       "      <td>RAEC Mons</td>\n",
       "      <td>MON</td>\n",
       "      <td>5</td>\n",
       "      <td>0</td>\n",
       "      <td>5</td>\n",
       "    </tr>\n",
       "    <tr>\n",
       "      <th>4</th>\n",
       "      <td>Belgium</td>\n",
       "      <td>Belgium Jupiler League</td>\n",
       "      <td>2008/2009</td>\n",
       "      <td>1</td>\n",
       "      <td>2008-08-16 00:00:00</td>\n",
       "      <td>FCV Dender EH</td>\n",
       "      <td>DEN</td>\n",
       "      <td>Standard de Liège</td>\n",
       "      <td>STL</td>\n",
       "      <td>1</td>\n",
       "      <td>3</td>\n",
       "      <td>4</td>\n",
       "    </tr>\n",
       "  </tbody>\n",
       "</table>\n",
       "</div>"
      ],
      "text/plain": [
       "  country_name             league_name     season  stage                 date  \\\n",
       "0      Belgium  Belgium Jupiler League  2008/2009      1  2008-08-17 00:00:00   \n",
       "1      Belgium  Belgium Jupiler League  2008/2009      1  2008-08-16 00:00:00   \n",
       "2      Belgium  Belgium Jupiler League  2008/2009      1  2008-08-16 00:00:00   \n",
       "3      Belgium  Belgium Jupiler League  2008/2009      1  2008-08-17 00:00:00   \n",
       "4      Belgium  Belgium Jupiler League  2008/2009      1  2008-08-16 00:00:00   \n",
       "\n",
       "  home_team_long_name home_short_long_name away_team_long_name  \\\n",
       "0            KRC Genk                  GEN        Beerschot AC   \n",
       "1    SV Zulte-Waregem                  ZUL    Sporting Lokeren   \n",
       "2   KSV Cercle Brugge                  CEB      RSC Anderlecht   \n",
       "3            KAA Gent                  GEN           RAEC Mons   \n",
       "4       FCV Dender EH                  DEN   Standard de Liège   \n",
       "\n",
       "  away_short_long_name  home_team_goal  away_team_goal  total_goal  \n",
       "0                  BAC               1               1           2  \n",
       "1                  LOK               0               0           0  \n",
       "2                  AND               0               3           3  \n",
       "3                  MON               5               0           5  \n",
       "4                  STL               1               3           4  "
      ]
     },
     "execution_count": 169,
     "metadata": {},
     "output_type": "execute_result"
    }
   ],
   "source": [
    "match_df.columns = match_df.columns.str.replace(' ', '_')\n",
    "match_df.head()"
   ]
  },
  {
   "cell_type": "markdown",
   "metadata": {},
   "source": [
    "<h3>Validamos que se hayan reemplazado bien los campos en el dataset Match</h3>"
   ]
  },
  {
   "cell_type": "code",
   "execution_count": 170,
   "metadata": {},
   "outputs": [
    {
     "data": {
      "text/plain": [
       "Index([], dtype='object')"
      ]
     },
     "execution_count": 170,
     "metadata": {},
     "output_type": "execute_result"
    }
   ],
   "source": [
    "match_df.columns[~match_df.columns.str.match(r'^(\\w+)$')]"
   ]
  },
  {
   "cell_type": "markdown",
   "metadata": {},
   "source": [
    "Validamos que se reemplazaron exitosamente los campos, ya que la consulta anterior no nos devuelve ningun campo."
   ]
  },
  {
   "cell_type": "markdown",
   "metadata": {},
   "source": [
    "# 3. Agregar nuevas caracteristicas"
   ]
  },
  {
   "cell_type": "markdown",
   "metadata": {},
   "source": [
    "Agregar al Dataframe `player_df` una nueva columna que sea `imc` correspondiente al **Indice de Masa Corporal**\n",
    "\n",
    "Link:\n",
    "* https://www.texasheart.org/heart-health/heart-information-center/topics/calculadora-del-indice-de-masa-corporal-imc/"
   ]
  },
  {
   "cell_type": "code",
   "execution_count": 171,
   "metadata": {},
   "outputs": [
    {
     "data": {
      "text/html": [
       "<div>\n",
       "<style scoped>\n",
       "    .dataframe tbody tr th:only-of-type {\n",
       "        vertical-align: middle;\n",
       "    }\n",
       "\n",
       "    .dataframe tbody tr th {\n",
       "        vertical-align: top;\n",
       "    }\n",
       "\n",
       "    .dataframe thead th {\n",
       "        text-align: right;\n",
       "    }\n",
       "</style>\n",
       "<table border=\"1\" class=\"dataframe\">\n",
       "  <thead>\n",
       "    <tr style=\"text-align: right;\">\n",
       "      <th></th>\n",
       "      <th>player name</th>\n",
       "      <th>birthday</th>\n",
       "      <th>height_m</th>\n",
       "      <th>weight_kg</th>\n",
       "      <th>overall_rating</th>\n",
       "      <th>potential</th>\n",
       "      <th>preferred foot</th>\n",
       "      <th>crossing</th>\n",
       "      <th>finishing</th>\n",
       "      <th>heading accuracy</th>\n",
       "      <th>...</th>\n",
       "      <th>vision</th>\n",
       "      <th>penalties</th>\n",
       "      <th>marking</th>\n",
       "      <th>standing tackle</th>\n",
       "      <th>sliding tackle</th>\n",
       "      <th>gk_diving</th>\n",
       "      <th>gk_handling</th>\n",
       "      <th>gk_kicking</th>\n",
       "      <th>gk_positioning</th>\n",
       "      <th>gk_reflexes</th>\n",
       "    </tr>\n",
       "  </thead>\n",
       "  <tbody>\n",
       "    <tr>\n",
       "      <th>0</th>\n",
       "      <td>Aaron Appindangoye</td>\n",
       "      <td>1992-02-29</td>\n",
       "      <td>1.83</td>\n",
       "      <td>84.82</td>\n",
       "      <td>63.60</td>\n",
       "      <td>67.60</td>\n",
       "      <td>right</td>\n",
       "      <td>48.60</td>\n",
       "      <td>43.60</td>\n",
       "      <td>70.60</td>\n",
       "      <td>...</td>\n",
       "      <td>53.60</td>\n",
       "      <td>47.60</td>\n",
       "      <td>63.80</td>\n",
       "      <td>66.00</td>\n",
       "      <td>67.80</td>\n",
       "      <td>5.60</td>\n",
       "      <td>10.60</td>\n",
       "      <td>9.60</td>\n",
       "      <td>7.60</td>\n",
       "      <td>7.60</td>\n",
       "    </tr>\n",
       "    <tr>\n",
       "      <th>1</th>\n",
       "      <td>Aaron Cresswell</td>\n",
       "      <td>1989-12-15</td>\n",
       "      <td>1.70</td>\n",
       "      <td>66.22</td>\n",
       "      <td>66.97</td>\n",
       "      <td>74.48</td>\n",
       "      <td>left</td>\n",
       "      <td>70.79</td>\n",
       "      <td>49.45</td>\n",
       "      <td>52.94</td>\n",
       "      <td>...</td>\n",
       "      <td>57.45</td>\n",
       "      <td>53.12</td>\n",
       "      <td>69.39</td>\n",
       "      <td>68.79</td>\n",
       "      <td>71.52</td>\n",
       "      <td>12.18</td>\n",
       "      <td>8.67</td>\n",
       "      <td>14.24</td>\n",
       "      <td>10.36</td>\n",
       "      <td>12.91</td>\n",
       "    </tr>\n",
       "    <tr>\n",
       "      <th>2</th>\n",
       "      <td>Aaron Doran</td>\n",
       "      <td>1991-05-13</td>\n",
       "      <td>1.70</td>\n",
       "      <td>73.94</td>\n",
       "      <td>67.00</td>\n",
       "      <td>74.19</td>\n",
       "      <td>right</td>\n",
       "      <td>68.12</td>\n",
       "      <td>57.92</td>\n",
       "      <td>58.69</td>\n",
       "      <td>...</td>\n",
       "      <td>69.38</td>\n",
       "      <td>60.54</td>\n",
       "      <td>22.04</td>\n",
       "      <td>21.12</td>\n",
       "      <td>21.35</td>\n",
       "      <td>14.04</td>\n",
       "      <td>11.81</td>\n",
       "      <td>17.73</td>\n",
       "      <td>10.12</td>\n",
       "      <td>13.50</td>\n",
       "    </tr>\n",
       "    <tr>\n",
       "      <th>3</th>\n",
       "      <td>Aaron Galindo</td>\n",
       "      <td>1982-05-08</td>\n",
       "      <td>1.83</td>\n",
       "      <td>89.81</td>\n",
       "      <td>69.09</td>\n",
       "      <td>70.78</td>\n",
       "      <td>right</td>\n",
       "      <td>57.22</td>\n",
       "      <td>26.26</td>\n",
       "      <td>69.26</td>\n",
       "      <td>...</td>\n",
       "      <td>53.78</td>\n",
       "      <td>41.74</td>\n",
       "      <td>70.61</td>\n",
       "      <td>70.65</td>\n",
       "      <td>68.04</td>\n",
       "      <td>14.17</td>\n",
       "      <td>11.17</td>\n",
       "      <td>22.87</td>\n",
       "      <td>11.17</td>\n",
       "      <td>10.17</td>\n",
       "    </tr>\n",
       "    <tr>\n",
       "      <th>4</th>\n",
       "      <td>Aaron Hughes</td>\n",
       "      <td>1979-11-08</td>\n",
       "      <td>1.83</td>\n",
       "      <td>69.85</td>\n",
       "      <td>73.24</td>\n",
       "      <td>74.68</td>\n",
       "      <td>right</td>\n",
       "      <td>45.08</td>\n",
       "      <td>38.84</td>\n",
       "      <td>73.04</td>\n",
       "      <td>...</td>\n",
       "      <td>46.48</td>\n",
       "      <td>52.96</td>\n",
       "      <td>77.60</td>\n",
       "      <td>76.04</td>\n",
       "      <td>74.60</td>\n",
       "      <td>8.28</td>\n",
       "      <td>8.32</td>\n",
       "      <td>24.92</td>\n",
       "      <td>12.84</td>\n",
       "      <td>11.92</td>\n",
       "    </tr>\n",
       "  </tbody>\n",
       "</table>\n",
       "<p>5 rows × 40 columns</p>\n",
       "</div>"
      ],
      "text/plain": [
       "          player name    birthday  height_m  weight_kg  overall_rating  \\\n",
       "0  Aaron Appindangoye  1992-02-29      1.83      84.82           63.60   \n",
       "1     Aaron Cresswell  1989-12-15      1.70      66.22           66.97   \n",
       "2         Aaron Doran  1991-05-13      1.70      73.94           67.00   \n",
       "3       Aaron Galindo  1982-05-08      1.83      89.81           69.09   \n",
       "4        Aaron Hughes  1979-11-08      1.83      69.85           73.24   \n",
       "\n",
       "   potential preferred foot  crossing  finishing  heading accuracy  ...  \\\n",
       "0      67.60          right     48.60      43.60             70.60  ...   \n",
       "1      74.48           left     70.79      49.45             52.94  ...   \n",
       "2      74.19          right     68.12      57.92             58.69  ...   \n",
       "3      70.78          right     57.22      26.26             69.26  ...   \n",
       "4      74.68          right     45.08      38.84             73.04  ...   \n",
       "\n",
       "   vision  penalties  marking  standing tackle  sliding tackle  gk_diving  \\\n",
       "0   53.60      47.60    63.80            66.00           67.80       5.60   \n",
       "1   57.45      53.12    69.39            68.79           71.52      12.18   \n",
       "2   69.38      60.54    22.04            21.12           21.35      14.04   \n",
       "3   53.78      41.74    70.61            70.65           68.04      14.17   \n",
       "4   46.48      52.96    77.60            76.04           74.60       8.28   \n",
       "\n",
       "   gk_handling  gk_kicking  gk_positioning  gk_reflexes  \n",
       "0        10.60        9.60            7.60         7.60  \n",
       "1         8.67       14.24           10.36        12.91  \n",
       "2        11.81       17.73           10.12        13.50  \n",
       "3        11.17       22.87           11.17        10.17  \n",
       "4         8.32       24.92           12.84        11.92  \n",
       "\n",
       "[5 rows x 40 columns]"
      ]
     },
     "execution_count": 171,
     "metadata": {},
     "output_type": "execute_result"
    }
   ],
   "source": [
    "from sklearn import preprocessing\n",
    "player_df_mod = pd.read_csv('./Datasets/football_player.csv')\n",
    "player_df_mod.head()"
   ]
  },
  {
   "cell_type": "markdown",
   "metadata": {},
   "source": [
    "<h3>Saco el Cuadrado de la altura, para poder sacar el IMC.\n",
    "Una vez definido el cuadrado, calculo el IMC</h3>"
   ]
  },
  {
   "cell_type": "code",
   "execution_count": 172,
   "metadata": {},
   "outputs": [],
   "source": [
    "altura_cuadrado=player_df_mod['height_m']**2\n",
    "def imc(peso,altura):\n",
    "  #  return peso / (altura*altura)\n",
    "    return peso / (altura_cuadrado)"
   ]
  },
  {
   "cell_type": "markdown",
   "metadata": {},
   "source": [
    "<h3> Agrego la columna IMC en el dataFrame Player</h3>"
   ]
  },
  {
   "cell_type": "code",
   "execution_count": 173,
   "metadata": {},
   "outputs": [
    {
     "ename": "ValueError",
     "evalue": "Wrong number of items passed 11060, placement implies 1",
     "output_type": "error",
     "traceback": [
      "\u001b[1;31m---------------------------------------------------------------------------\u001b[0m",
      "\u001b[1;31mKeyError\u001b[0m                                  Traceback (most recent call last)",
      "\u001b[1;32m~\\AppData\\Local\\Continuum\\anaconda3\\lib\\site-packages\\pandas\\core\\indexes\\base.py\u001b[0m in \u001b[0;36mget_loc\u001b[1;34m(self, key, method, tolerance)\u001b[0m\n\u001b[0;32m   2656\u001b[0m             \u001b[1;32mtry\u001b[0m\u001b[1;33m:\u001b[0m\u001b[1;33m\u001b[0m\u001b[1;33m\u001b[0m\u001b[0m\n\u001b[1;32m-> 2657\u001b[1;33m                 \u001b[1;32mreturn\u001b[0m \u001b[0mself\u001b[0m\u001b[1;33m.\u001b[0m\u001b[0m_engine\u001b[0m\u001b[1;33m.\u001b[0m\u001b[0mget_loc\u001b[0m\u001b[1;33m(\u001b[0m\u001b[0mkey\u001b[0m\u001b[1;33m)\u001b[0m\u001b[1;33m\u001b[0m\u001b[1;33m\u001b[0m\u001b[0m\n\u001b[0m\u001b[0;32m   2658\u001b[0m             \u001b[1;32mexcept\u001b[0m \u001b[0mKeyError\u001b[0m\u001b[1;33m:\u001b[0m\u001b[1;33m\u001b[0m\u001b[1;33m\u001b[0m\u001b[0m\n",
      "\u001b[1;32mpandas/_libs/index.pyx\u001b[0m in \u001b[0;36mpandas._libs.index.IndexEngine.get_loc\u001b[1;34m()\u001b[0m\n",
      "\u001b[1;32mpandas/_libs/index.pyx\u001b[0m in \u001b[0;36mpandas._libs.index.IndexEngine.get_loc\u001b[1;34m()\u001b[0m\n",
      "\u001b[1;32mpandas/_libs/hashtable_class_helper.pxi\u001b[0m in \u001b[0;36mpandas._libs.hashtable.PyObjectHashTable.get_item\u001b[1;34m()\u001b[0m\n",
      "\u001b[1;32mpandas/_libs/hashtable_class_helper.pxi\u001b[0m in \u001b[0;36mpandas._libs.hashtable.PyObjectHashTable.get_item\u001b[1;34m()\u001b[0m\n",
      "\u001b[1;31mKeyError\u001b[0m: 'IMC'",
      "\nDuring handling of the above exception, another exception occurred:\n",
      "\u001b[1;31mKeyError\u001b[0m                                  Traceback (most recent call last)",
      "\u001b[1;32m~\\AppData\\Local\\Continuum\\anaconda3\\lib\\site-packages\\pandas\\core\\internals\\managers.py\u001b[0m in \u001b[0;36mset\u001b[1;34m(self, item, value)\u001b[0m\n\u001b[0;32m   1052\u001b[0m         \u001b[1;32mtry\u001b[0m\u001b[1;33m:\u001b[0m\u001b[1;33m\u001b[0m\u001b[1;33m\u001b[0m\u001b[0m\n\u001b[1;32m-> 1053\u001b[1;33m             \u001b[0mloc\u001b[0m \u001b[1;33m=\u001b[0m \u001b[0mself\u001b[0m\u001b[1;33m.\u001b[0m\u001b[0mitems\u001b[0m\u001b[1;33m.\u001b[0m\u001b[0mget_loc\u001b[0m\u001b[1;33m(\u001b[0m\u001b[0mitem\u001b[0m\u001b[1;33m)\u001b[0m\u001b[1;33m\u001b[0m\u001b[1;33m\u001b[0m\u001b[0m\n\u001b[0m\u001b[0;32m   1054\u001b[0m         \u001b[1;32mexcept\u001b[0m \u001b[0mKeyError\u001b[0m\u001b[1;33m:\u001b[0m\u001b[1;33m\u001b[0m\u001b[1;33m\u001b[0m\u001b[0m\n",
      "\u001b[1;32m~\\AppData\\Local\\Continuum\\anaconda3\\lib\\site-packages\\pandas\\core\\indexes\\base.py\u001b[0m in \u001b[0;36mget_loc\u001b[1;34m(self, key, method, tolerance)\u001b[0m\n\u001b[0;32m   2658\u001b[0m             \u001b[1;32mexcept\u001b[0m \u001b[0mKeyError\u001b[0m\u001b[1;33m:\u001b[0m\u001b[1;33m\u001b[0m\u001b[1;33m\u001b[0m\u001b[0m\n\u001b[1;32m-> 2659\u001b[1;33m                 \u001b[1;32mreturn\u001b[0m \u001b[0mself\u001b[0m\u001b[1;33m.\u001b[0m\u001b[0m_engine\u001b[0m\u001b[1;33m.\u001b[0m\u001b[0mget_loc\u001b[0m\u001b[1;33m(\u001b[0m\u001b[0mself\u001b[0m\u001b[1;33m.\u001b[0m\u001b[0m_maybe_cast_indexer\u001b[0m\u001b[1;33m(\u001b[0m\u001b[0mkey\u001b[0m\u001b[1;33m)\u001b[0m\u001b[1;33m)\u001b[0m\u001b[1;33m\u001b[0m\u001b[1;33m\u001b[0m\u001b[0m\n\u001b[0m\u001b[0;32m   2660\u001b[0m         \u001b[0mindexer\u001b[0m \u001b[1;33m=\u001b[0m \u001b[0mself\u001b[0m\u001b[1;33m.\u001b[0m\u001b[0mget_indexer\u001b[0m\u001b[1;33m(\u001b[0m\u001b[1;33m[\u001b[0m\u001b[0mkey\u001b[0m\u001b[1;33m]\u001b[0m\u001b[1;33m,\u001b[0m \u001b[0mmethod\u001b[0m\u001b[1;33m=\u001b[0m\u001b[0mmethod\u001b[0m\u001b[1;33m,\u001b[0m \u001b[0mtolerance\u001b[0m\u001b[1;33m=\u001b[0m\u001b[0mtolerance\u001b[0m\u001b[1;33m)\u001b[0m\u001b[1;33m\u001b[0m\u001b[1;33m\u001b[0m\u001b[0m\n",
      "\u001b[1;32mpandas/_libs/index.pyx\u001b[0m in \u001b[0;36mpandas._libs.index.IndexEngine.get_loc\u001b[1;34m()\u001b[0m\n",
      "\u001b[1;32mpandas/_libs/index.pyx\u001b[0m in \u001b[0;36mpandas._libs.index.IndexEngine.get_loc\u001b[1;34m()\u001b[0m\n",
      "\u001b[1;32mpandas/_libs/hashtable_class_helper.pxi\u001b[0m in \u001b[0;36mpandas._libs.hashtable.PyObjectHashTable.get_item\u001b[1;34m()\u001b[0m\n",
      "\u001b[1;32mpandas/_libs/hashtable_class_helper.pxi\u001b[0m in \u001b[0;36mpandas._libs.hashtable.PyObjectHashTable.get_item\u001b[1;34m()\u001b[0m\n",
      "\u001b[1;31mKeyError\u001b[0m: 'IMC'",
      "\nDuring handling of the above exception, another exception occurred:\n",
      "\u001b[1;31mValueError\u001b[0m                                Traceback (most recent call last)",
      "\u001b[1;32m<ipython-input-173-d9a6d2e6b330>\u001b[0m in \u001b[0;36m<module>\u001b[1;34m\u001b[0m\n\u001b[0;32m      1\u001b[0m \u001b[1;33m\u001b[0m\u001b[0m\n\u001b[1;32m----> 2\u001b[1;33m \u001b[0mplayer_df_mod\u001b[0m\u001b[1;33m[\u001b[0m\u001b[1;34m'IMC'\u001b[0m\u001b[1;33m]\u001b[0m \u001b[1;33m=\u001b[0m \u001b[0mplayer_df_mod\u001b[0m\u001b[1;33m.\u001b[0m\u001b[0mapply\u001b[0m\u001b[1;33m(\u001b[0m\u001b[1;32mlambda\u001b[0m \u001b[0mx\u001b[0m\u001b[1;33m:\u001b[0m \u001b[0mimc\u001b[0m\u001b[1;33m(\u001b[0m\u001b[0mx\u001b[0m\u001b[1;33m.\u001b[0m\u001b[0mweight_kg\u001b[0m\u001b[1;33m,\u001b[0m \u001b[0mx\u001b[0m\u001b[1;33m.\u001b[0m\u001b[0mheight_m\u001b[0m\u001b[1;33m)\u001b[0m\u001b[1;33m,\u001b[0m \u001b[0maxis\u001b[0m\u001b[1;33m=\u001b[0m\u001b[1;36m1\u001b[0m\u001b[1;33m)\u001b[0m\u001b[1;33m\u001b[0m\u001b[1;33m\u001b[0m\u001b[0m\n\u001b[0m\u001b[0;32m      3\u001b[0m \u001b[0mplayer_df_mod\u001b[0m\u001b[1;33m.\u001b[0m\u001b[0mdescribe\u001b[0m\u001b[1;33m(\u001b[0m\u001b[1;33m)\u001b[0m\u001b[1;33m\u001b[0m\u001b[1;33m\u001b[0m\u001b[0m\n",
      "\u001b[1;32m~\\AppData\\Local\\Continuum\\anaconda3\\lib\\site-packages\\pandas\\core\\frame.py\u001b[0m in \u001b[0;36m__setitem__\u001b[1;34m(self, key, value)\u001b[0m\n\u001b[0;32m   3368\u001b[0m         \u001b[1;32melse\u001b[0m\u001b[1;33m:\u001b[0m\u001b[1;33m\u001b[0m\u001b[1;33m\u001b[0m\u001b[0m\n\u001b[0;32m   3369\u001b[0m             \u001b[1;31m# set column\u001b[0m\u001b[1;33m\u001b[0m\u001b[1;33m\u001b[0m\u001b[1;33m\u001b[0m\u001b[0m\n\u001b[1;32m-> 3370\u001b[1;33m             \u001b[0mself\u001b[0m\u001b[1;33m.\u001b[0m\u001b[0m_set_item\u001b[0m\u001b[1;33m(\u001b[0m\u001b[0mkey\u001b[0m\u001b[1;33m,\u001b[0m \u001b[0mvalue\u001b[0m\u001b[1;33m)\u001b[0m\u001b[1;33m\u001b[0m\u001b[1;33m\u001b[0m\u001b[0m\n\u001b[0m\u001b[0;32m   3371\u001b[0m \u001b[1;33m\u001b[0m\u001b[0m\n\u001b[0;32m   3372\u001b[0m     \u001b[1;32mdef\u001b[0m \u001b[0m_setitem_slice\u001b[0m\u001b[1;33m(\u001b[0m\u001b[0mself\u001b[0m\u001b[1;33m,\u001b[0m \u001b[0mkey\u001b[0m\u001b[1;33m,\u001b[0m \u001b[0mvalue\u001b[0m\u001b[1;33m)\u001b[0m\u001b[1;33m:\u001b[0m\u001b[1;33m\u001b[0m\u001b[1;33m\u001b[0m\u001b[0m\n",
      "\u001b[1;32m~\\AppData\\Local\\Continuum\\anaconda3\\lib\\site-packages\\pandas\\core\\frame.py\u001b[0m in \u001b[0;36m_set_item\u001b[1;34m(self, key, value)\u001b[0m\n\u001b[0;32m   3444\u001b[0m         \u001b[0mself\u001b[0m\u001b[1;33m.\u001b[0m\u001b[0m_ensure_valid_index\u001b[0m\u001b[1;33m(\u001b[0m\u001b[0mvalue\u001b[0m\u001b[1;33m)\u001b[0m\u001b[1;33m\u001b[0m\u001b[1;33m\u001b[0m\u001b[0m\n\u001b[0;32m   3445\u001b[0m         \u001b[0mvalue\u001b[0m \u001b[1;33m=\u001b[0m \u001b[0mself\u001b[0m\u001b[1;33m.\u001b[0m\u001b[0m_sanitize_column\u001b[0m\u001b[1;33m(\u001b[0m\u001b[0mkey\u001b[0m\u001b[1;33m,\u001b[0m \u001b[0mvalue\u001b[0m\u001b[1;33m)\u001b[0m\u001b[1;33m\u001b[0m\u001b[1;33m\u001b[0m\u001b[0m\n\u001b[1;32m-> 3446\u001b[1;33m         \u001b[0mNDFrame\u001b[0m\u001b[1;33m.\u001b[0m\u001b[0m_set_item\u001b[0m\u001b[1;33m(\u001b[0m\u001b[0mself\u001b[0m\u001b[1;33m,\u001b[0m \u001b[0mkey\u001b[0m\u001b[1;33m,\u001b[0m \u001b[0mvalue\u001b[0m\u001b[1;33m)\u001b[0m\u001b[1;33m\u001b[0m\u001b[1;33m\u001b[0m\u001b[0m\n\u001b[0m\u001b[0;32m   3447\u001b[0m \u001b[1;33m\u001b[0m\u001b[0m\n\u001b[0;32m   3448\u001b[0m         \u001b[1;31m# check if we are modifying a copy\u001b[0m\u001b[1;33m\u001b[0m\u001b[1;33m\u001b[0m\u001b[1;33m\u001b[0m\u001b[0m\n",
      "\u001b[1;32m~\\AppData\\Local\\Continuum\\anaconda3\\lib\\site-packages\\pandas\\core\\generic.py\u001b[0m in \u001b[0;36m_set_item\u001b[1;34m(self, key, value)\u001b[0m\n\u001b[0;32m   3170\u001b[0m \u001b[1;33m\u001b[0m\u001b[0m\n\u001b[0;32m   3171\u001b[0m     \u001b[1;32mdef\u001b[0m \u001b[0m_set_item\u001b[0m\u001b[1;33m(\u001b[0m\u001b[0mself\u001b[0m\u001b[1;33m,\u001b[0m \u001b[0mkey\u001b[0m\u001b[1;33m,\u001b[0m \u001b[0mvalue\u001b[0m\u001b[1;33m)\u001b[0m\u001b[1;33m:\u001b[0m\u001b[1;33m\u001b[0m\u001b[1;33m\u001b[0m\u001b[0m\n\u001b[1;32m-> 3172\u001b[1;33m         \u001b[0mself\u001b[0m\u001b[1;33m.\u001b[0m\u001b[0m_data\u001b[0m\u001b[1;33m.\u001b[0m\u001b[0mset\u001b[0m\u001b[1;33m(\u001b[0m\u001b[0mkey\u001b[0m\u001b[1;33m,\u001b[0m \u001b[0mvalue\u001b[0m\u001b[1;33m)\u001b[0m\u001b[1;33m\u001b[0m\u001b[1;33m\u001b[0m\u001b[0m\n\u001b[0m\u001b[0;32m   3173\u001b[0m         \u001b[0mself\u001b[0m\u001b[1;33m.\u001b[0m\u001b[0m_clear_item_cache\u001b[0m\u001b[1;33m(\u001b[0m\u001b[1;33m)\u001b[0m\u001b[1;33m\u001b[0m\u001b[1;33m\u001b[0m\u001b[0m\n\u001b[0;32m   3174\u001b[0m \u001b[1;33m\u001b[0m\u001b[0m\n",
      "\u001b[1;32m~\\AppData\\Local\\Continuum\\anaconda3\\lib\\site-packages\\pandas\\core\\internals\\managers.py\u001b[0m in \u001b[0;36mset\u001b[1;34m(self, item, value)\u001b[0m\n\u001b[0;32m   1054\u001b[0m         \u001b[1;32mexcept\u001b[0m \u001b[0mKeyError\u001b[0m\u001b[1;33m:\u001b[0m\u001b[1;33m\u001b[0m\u001b[1;33m\u001b[0m\u001b[0m\n\u001b[0;32m   1055\u001b[0m             \u001b[1;31m# This item wasn't present, just insert at end\u001b[0m\u001b[1;33m\u001b[0m\u001b[1;33m\u001b[0m\u001b[1;33m\u001b[0m\u001b[0m\n\u001b[1;32m-> 1056\u001b[1;33m             \u001b[0mself\u001b[0m\u001b[1;33m.\u001b[0m\u001b[0minsert\u001b[0m\u001b[1;33m(\u001b[0m\u001b[0mlen\u001b[0m\u001b[1;33m(\u001b[0m\u001b[0mself\u001b[0m\u001b[1;33m.\u001b[0m\u001b[0mitems\u001b[0m\u001b[1;33m)\u001b[0m\u001b[1;33m,\u001b[0m \u001b[0mitem\u001b[0m\u001b[1;33m,\u001b[0m \u001b[0mvalue\u001b[0m\u001b[1;33m)\u001b[0m\u001b[1;33m\u001b[0m\u001b[1;33m\u001b[0m\u001b[0m\n\u001b[0m\u001b[0;32m   1057\u001b[0m             \u001b[1;32mreturn\u001b[0m\u001b[1;33m\u001b[0m\u001b[1;33m\u001b[0m\u001b[0m\n\u001b[0;32m   1058\u001b[0m \u001b[1;33m\u001b[0m\u001b[0m\n",
      "\u001b[1;32m~\\AppData\\Local\\Continuum\\anaconda3\\lib\\site-packages\\pandas\\core\\internals\\managers.py\u001b[0m in \u001b[0;36minsert\u001b[1;34m(self, loc, item, value, allow_duplicates)\u001b[0m\n\u001b[0;32m   1156\u001b[0m \u001b[1;33m\u001b[0m\u001b[0m\n\u001b[0;32m   1157\u001b[0m         block = make_block(values=value, ndim=self.ndim,\n\u001b[1;32m-> 1158\u001b[1;33m                            placement=slice(loc, loc + 1))\n\u001b[0m\u001b[0;32m   1159\u001b[0m \u001b[1;33m\u001b[0m\u001b[0m\n\u001b[0;32m   1160\u001b[0m         \u001b[1;32mfor\u001b[0m \u001b[0mblkno\u001b[0m\u001b[1;33m,\u001b[0m \u001b[0mcount\u001b[0m \u001b[1;32min\u001b[0m \u001b[0m_fast_count_smallints\u001b[0m\u001b[1;33m(\u001b[0m\u001b[0mself\u001b[0m\u001b[1;33m.\u001b[0m\u001b[0m_blknos\u001b[0m\u001b[1;33m[\u001b[0m\u001b[0mloc\u001b[0m\u001b[1;33m:\u001b[0m\u001b[1;33m]\u001b[0m\u001b[1;33m)\u001b[0m\u001b[1;33m:\u001b[0m\u001b[1;33m\u001b[0m\u001b[1;33m\u001b[0m\u001b[0m\n",
      "\u001b[1;32m~\\AppData\\Local\\Continuum\\anaconda3\\lib\\site-packages\\pandas\\core\\internals\\blocks.py\u001b[0m in \u001b[0;36mmake_block\u001b[1;34m(values, placement, klass, ndim, dtype, fastpath)\u001b[0m\n\u001b[0;32m   3093\u001b[0m         \u001b[0mvalues\u001b[0m \u001b[1;33m=\u001b[0m \u001b[0mDatetimeArray\u001b[0m\u001b[1;33m.\u001b[0m\u001b[0m_simple_new\u001b[0m\u001b[1;33m(\u001b[0m\u001b[0mvalues\u001b[0m\u001b[1;33m,\u001b[0m \u001b[0mdtype\u001b[0m\u001b[1;33m=\u001b[0m\u001b[0mdtype\u001b[0m\u001b[1;33m)\u001b[0m\u001b[1;33m\u001b[0m\u001b[1;33m\u001b[0m\u001b[0m\n\u001b[0;32m   3094\u001b[0m \u001b[1;33m\u001b[0m\u001b[0m\n\u001b[1;32m-> 3095\u001b[1;33m     \u001b[1;32mreturn\u001b[0m \u001b[0mklass\u001b[0m\u001b[1;33m(\u001b[0m\u001b[0mvalues\u001b[0m\u001b[1;33m,\u001b[0m \u001b[0mndim\u001b[0m\u001b[1;33m=\u001b[0m\u001b[0mndim\u001b[0m\u001b[1;33m,\u001b[0m \u001b[0mplacement\u001b[0m\u001b[1;33m=\u001b[0m\u001b[0mplacement\u001b[0m\u001b[1;33m)\u001b[0m\u001b[1;33m\u001b[0m\u001b[1;33m\u001b[0m\u001b[0m\n\u001b[0m\u001b[0;32m   3096\u001b[0m \u001b[1;33m\u001b[0m\u001b[0m\n\u001b[0;32m   3097\u001b[0m \u001b[1;33m\u001b[0m\u001b[0m\n",
      "\u001b[1;32m~\\AppData\\Local\\Continuum\\anaconda3\\lib\\site-packages\\pandas\\core\\internals\\blocks.py\u001b[0m in \u001b[0;36m__init__\u001b[1;34m(self, values, placement, ndim)\u001b[0m\n\u001b[0;32m     85\u001b[0m             raise ValueError(\n\u001b[0;32m     86\u001b[0m                 \u001b[1;34m'Wrong number of items passed {val}, placement implies '\u001b[0m\u001b[1;33m\u001b[0m\u001b[1;33m\u001b[0m\u001b[0m\n\u001b[1;32m---> 87\u001b[1;33m                 '{mgr}'.format(val=len(self.values), mgr=len(self.mgr_locs)))\n\u001b[0m\u001b[0;32m     88\u001b[0m \u001b[1;33m\u001b[0m\u001b[0m\n\u001b[0;32m     89\u001b[0m     \u001b[1;32mdef\u001b[0m \u001b[0m_check_ndim\u001b[0m\u001b[1;33m(\u001b[0m\u001b[0mself\u001b[0m\u001b[1;33m,\u001b[0m \u001b[0mvalues\u001b[0m\u001b[1;33m,\u001b[0m \u001b[0mndim\u001b[0m\u001b[1;33m)\u001b[0m\u001b[1;33m:\u001b[0m\u001b[1;33m\u001b[0m\u001b[1;33m\u001b[0m\u001b[0m\n",
      "\u001b[1;31mValueError\u001b[0m: Wrong number of items passed 11060, placement implies 1"
     ]
    }
   ],
   "source": [
    "\n",
    "player_df_mod['IMC'] = player_df_mod.apply(lambda x: imc(x.weight_kg, x.height_m), axis=1)\n",
    "player_df_mod.describe()"
   ]
  },
  {
   "cell_type": "markdown",
   "metadata": {},
   "source": [
    "<h2> Grafico de distribucion de IMC</h2>"
   ]
  },
  {
   "cell_type": "code",
   "execution_count": null,
   "metadata": {},
   "outputs": [],
   "source": [
    "\n",
    "plt.figure(figsize=(10,6))\n",
    "\n",
    "## Grafico la distribucion de Masa Corporal\"  \n",
    "sns.distplot(player_df_mod.IMC, kde=True, bins=5, label='IMC')\n",
    "\n",
    "plt.ylabel('Densidad de Masa Corporal')\n",
    "plt.legend()"
   ]
  },
  {
   "cell_type": "markdown",
   "metadata": {},
   "source": [
    "<h2> Visualizamos los valores atipicos para el calculo realizado de IMC</h2>"
   ]
  },
  {
   "cell_type": "code",
   "execution_count": null,
   "metadata": {},
   "outputs": [],
   "source": [
    "#Para observar valores atípicos visualizamos el gráfico de caja...\n",
    "plt.figure(figsize=(10,6))\n",
    "data = player_df_mod[['IMC']]\n",
    "sns.boxplot(data = data, orient=\"h\", palette=\"coolwarm\")\n",
    "#sns.stripplot(data=data, color='black')\n",
    "plt.show()"
   ]
  },
  {
   "cell_type": "markdown",
   "metadata": {},
   "source": [
    "# 4. Tratar valores faltantes"
   ]
  },
  {
   "cell_type": "markdown",
   "metadata": {},
   "source": [
    "Veamos cuantos valores nulos tenemos"
   ]
  },
  {
   "cell_type": "code",
   "execution_count": null,
   "metadata": {},
   "outputs": [],
   "source": [
    "player_missing_values_count = player_df.isnull().sum()\n",
    "\n",
    "player_missing_values_count[player_missing_values_count > 0]"
   ]
  },
  {
   "cell_type": "markdown",
   "metadata": {},
   "source": [
    "Tenemos 478 valores nulos en 7 columnas del DataFrame Player"
   ]
  },
  {
   "cell_type": "code",
   "execution_count": null,
   "metadata": {},
   "outputs": [],
   "source": [
    "len( player_df.dropna())/len(player_df)"
   ]
  },
  {
   "cell_type": "code",
   "execution_count": null,
   "metadata": {},
   "outputs": [],
   "source": [
    "len(player_df.dropna(subset=['volleys']))/len(player_df)"
   ]
  },
  {
   "cell_type": "code",
   "execution_count": null,
   "metadata": {},
   "outputs": [],
   "source": [
    "player_df[player_df.volleys.isnull()]"
   ]
  },
  {
   "cell_type": "markdown",
   "metadata": {},
   "source": [
    "<h2>Eliminamos los valores nulos</h2>"
   ]
  },
  {
   "cell_type": "code",
   "execution_count": null,
   "metadata": {},
   "outputs": [],
   "source": [
    "player_df_mod = player_df_mod.dropna(subset=['volleys'])"
   ]
  },
  {
   "cell_type": "code",
   "execution_count": null,
   "metadata": {},
   "outputs": [],
   "source": [
    "player_df_mod.describe()"
   ]
  },
  {
   "cell_type": "markdown",
   "metadata": {},
   "source": [
    "<h2>Validamos que se hayan validado esos valores nulos</h2>"
   ]
  },
  {
   "cell_type": "code",
   "execution_count": null,
   "metadata": {},
   "outputs": [],
   "source": [
    "\n",
    "player_missing_values_count = player_df_mod.isnull().sum()\n",
    "\n",
    "player_missing_values_count[player_missing_values_count > 0]"
   ]
  },
  {
   "cell_type": "markdown",
   "metadata": {},
   "source": [
    "Validamos que se eliminaron exitosamente los campos nulos, ya que no devuelve ningun valor la consulta realizada."
   ]
  },
  {
   "cell_type": "code",
   "execution_count": null,
   "metadata": {},
   "outputs": [],
   "source": [
    "player_df[player_df.volleys.isnull()]"
   ]
  },
  {
   "cell_type": "markdown",
   "metadata": {},
   "source": [
    "Algunas tecnicas para tratar los _missing values_:\n",
    "* **Eliminar** muestras o variables que tienen datos faltantes.\n",
    "* **Imputar** los valores perdidos, es decir, sustituirlos por estimaciones por ejemplo la `media`, la `moda` ó usando `KNN`.\n",
    "\n",
    "A) Analizar si es conveniente **Eliminar** las muestras o variables con datos faltantes del Dataframe `player_df`. \n",
    "\n",
    "B) Aplicar la **Imputacion** usando la `media` o `moda` sobre las columnas con _missing values_ del Dataframe `player_df`.\n",
    "\n",
    "**Hint**:\n",
    "* Para la imputacion usando la `media`, `moda` ver el siguiente link:  \n",
    "    https://pandas.pydata.org/pandas-docs/stable/user_guide/missing_data.html"
   ]
  },
  {
   "cell_type": "markdown",
   "metadata": {},
   "source": [
    "### ¿Eliminar los _missing values_? Justificar"
   ]
  },
  {
   "cell_type": "markdown",
   "metadata": {},
   "source": [
    "# Elimino los valores en un dataset modificado\n",
    "Para eliminar los valores missing, debemos realizar un analisis sobre esos campos.Las columnas con valores missing\n",
    "son:\n",
    "volleys           478\n",
    "curve             478\n",
    "agility           478\n",
    "balance           478\n",
    "jumping           478\n",
    "vision            478\n",
    "sliding_tackle    478\n",
    "\n",
    "Una de las soluciones para resolver este problema podria ser llenar estos los valores con ceros. Pero esta solucion\n",
    "no seria la mas optima, porque por ejemplo para un jugador, tendriamos que su agilidad es cero, y no seria representativo.\n",
    "\n",
    "Otra de las opciones para resolver este problema es decidir eliminar estos valores, suponiendo que los valores \n",
    "missing pueden ser errores, de esta manera subsanamos dicho error.\n",
    "\n",
    "Otra de las opciones es la imputacion de la Media o Moda, segun corresponda, analisis detallado mas abajo.\n"
   ]
  },
  {
   "cell_type": "markdown",
   "metadata": {},
   "source": [
    "<h2> Imputacion usando Media y Moda</h2>\n",
    "<h3> Reemplazo de Valores Faltantes usando la moda</h3>"
   ]
  },
  {
   "cell_type": "code",
   "execution_count": null,
   "metadata": {},
   "outputs": [],
   "source": [
    "# Rellenamos usando la Moda\n",
    "# player_df.fillna(player_df.mode(), inplace=True)\n",
    "\n",
    "player_df_reemplazo_nan_moda = player_df\n",
    "\n",
    "for column in ['volleys','agility','curve','balance','jumping','vision','sliding_tackle']:\n",
    "    player_df_reemplazo_nan_moda[column].fillna(player_df_reemplazo_nan_moda[column].mode()[0], inplace=True)\n",
    "\n",
    "player_df_reemplazo_nan_moda\n",
    "\n"
   ]
  },
  {
   "cell_type": "markdown",
   "metadata": {},
   "source": [
    "<h3>Validamos que se hayan reemplazado bien los valores y que no hayan valores missing:</h3>"
   ]
  },
  {
   "cell_type": "code",
   "execution_count": null,
   "metadata": {},
   "outputs": [],
   "source": [
    "player_missing_values_count = player_df.isnull().sum()\n",
    "\n",
    "player_missing_values_count[player_missing_values_count > 0]"
   ]
  },
  {
   "cell_type": "markdown",
   "metadata": {},
   "source": [
    "Se comprueba exitosamente que no hay valores missing, una vez que se reemplazaron los datos por su moda."
   ]
  },
  {
   "cell_type": "markdown",
   "metadata": {},
   "source": [
    "<h3> Reemplazo de Valores Faltantes usando la Media</h3>"
   ]
  },
  {
   "cell_type": "code",
   "execution_count": null,
   "metadata": {},
   "outputs": [],
   "source": [
    "# Rellenamos usando la Moda\n",
    "player_df_reemplazo_nan_media = player_df\n",
    "player_df_reemplazo_nan_media.fillna(player_df_reemplazo_nan_media.mean(), inplace=True)\n"
   ]
  },
  {
   "cell_type": "code",
   "execution_count": 174,
   "metadata": {},
   "outputs": [
    {
     "data": {
      "text/plain": [
       "Series([], dtype: int64)"
      ]
     },
     "execution_count": 174,
     "metadata": {},
     "output_type": "execute_result"
    }
   ],
   "source": [
    "player_missing_values_count = player_df_reemplazo_nan_media.isnull().sum()\n",
    "\n",
    "player_missing_values_count[player_missing_values_count > 0]"
   ]
  },
  {
   "cell_type": "markdown",
   "metadata": {},
   "source": [
    "Se comprueba exitosamente que no hay valores missing, una vez que se reemplazaron los datos por su media."
   ]
  },
  {
   "cell_type": "markdown",
   "metadata": {},
   "source": [
    "# 5. Normalizacion de columnas"
   ]
  },
  {
   "cell_type": "markdown",
   "metadata": {},
   "source": [
    "\n",
    "Normalizar la columna `crossing` usando **Min-Max**.\n",
    "\n",
    "Normalizar la columna `short_passing` usando **Z-score**.\n"
   ]
  },
  {
   "cell_type": "markdown",
   "metadata": {},
   "source": [
    "<h2> Normalizando la columna crossing, usando Min-Max</h2>"
   ]
  },
  {
   "cell_type": "markdown",
   "metadata": {},
   "source": [
    "Normalizamos la columna y mostramos un listado antes de la normalizacion y despues de la misma"
   ]
  },
  {
   "cell_type": "code",
   "execution_count": 175,
   "metadata": {},
   "outputs": [
    {
     "name": "stdout",
     "output_type": "stream",
     "text": [
      "0    48.60\n",
      "1    70.79\n",
      "2    68.12\n",
      "3    57.22\n",
      "4    45.08\n",
      "5    73.89\n",
      "6    47.57\n",
      "7    78.04\n",
      "8    12.00\n",
      "9    63.89\n",
      "Name: crossing, dtype: float64\n",
      "0    0.511036\n",
      "1    0.777231\n",
      "2    0.745202\n",
      "3    0.614443\n",
      "4    0.468810\n",
      "5    0.814419\n",
      "6    0.498680\n",
      "7    0.864203\n",
      "8    0.071977\n",
      "9    0.694458\n",
      "Name: crossing, dtype: float64\n"
     ]
    }
   ],
   "source": [
    "# TODO\n",
    "print(player_df.crossing.head(10))\n",
    "\n",
    "scaler = preprocessing.MinMaxScaler()\n",
    "player_df[[\"crossing\"]] = scaler.fit_transform(player_df[[\"crossing\"]])\n",
    "\n",
    "print(player_df.crossing.head(10))"
   ]
  },
  {
   "cell_type": "markdown",
   "metadata": {},
   "source": [
    "<h2>Normalizamos la columna short_passing usando Z-score</h2>"
   ]
  },
  {
   "cell_type": "markdown",
   "metadata": {},
   "source": [
    "Normalizamos la columna y mostramos un listado antes de la normalizacion y despues de la misma."
   ]
  },
  {
   "cell_type": "code",
   "execution_count": 176,
   "metadata": {},
   "outputs": [
    {
     "name": "stdout",
     "output_type": "stream",
     "text": [
      "0    60.60\n",
      "1    62.27\n",
      "2    65.12\n",
      "3    64.70\n",
      "4    64.76\n",
      "5    78.26\n",
      "6    63.57\n",
      "7    76.27\n",
      "8    23.00\n",
      "9    68.95\n",
      "Name: short_passing, dtype: float64\n",
      "0    0.017238\n",
      "1    0.140868\n",
      "2    0.351853\n",
      "3    0.320761\n",
      "4    0.325202\n",
      "5    1.324605\n",
      "6    0.237107\n",
      "7    1.177285\n",
      "8   -2.766282\n",
      "9    0.635387\n",
      "Name: short_passing, dtype: float64\n"
     ]
    }
   ],
   "source": [
    "\n",
    "print(player_df[\"short_passing\"].head(10))\n",
    "\n",
    "scaler = preprocessing.MinMaxScaler()\n",
    "player_df[[\"short_passing\"]] = sp.stats.zscore(player_df[[\"short_passing\"]])\n",
    "\n",
    "print(player_df[\"short_passing\"].head(10))"
   ]
  },
  {
   "cell_type": "markdown",
   "metadata": {},
   "source": [
    "# 6. Codificar variables"
   ]
  },
  {
   "cell_type": "markdown",
   "metadata": {},
   "source": [
    "> Las variables categóricas deben ser etiquetadas como variables numéricas, no como cadenas.\n",
    "\n",
    "Codificar la variable `country_name` del Dataframe `match_df`"
   ]
  },
  {
   "cell_type": "markdown",
   "metadata": {},
   "source": [
    "<h2> La columna \"country_name\" antes de ser etiquetada como variable numerica</h2>"
   ]
  },
  {
   "cell_type": "code",
   "execution_count": 177,
   "metadata": {},
   "outputs": [
    {
     "name": "stdout",
     "output_type": "stream",
     "text": [
      "{'Portugal', 'Belgium', 'Netherlands', 'France', 'England', 'Scotland', 'Italy', 'Poland', 'Switzerland', 'Spain', 'Germany'}\n"
     ]
    }
   ],
   "source": [
    "\n",
    "print(set(match_df[\"country_name\"]))"
   ]
  },
  {
   "cell_type": "markdown",
   "metadata": {},
   "source": [
    "<h2>Etiqueto como variables numericas a la columna \"country_name\"</h2>"
   ]
  },
  {
   "cell_type": "code",
   "execution_count": 178,
   "metadata": {},
   "outputs": [],
   "source": [
    "le = preprocessing.LabelEncoder()\n",
    "match_df[[\"country_name\"]] = le.fit_transform(match_df[[\"country_name\"]])"
   ]
  },
  {
   "cell_type": "markdown",
   "metadata": {},
   "source": [
    "<h2>Visualizo la columna, con los datos ya transformados</h2>"
   ]
  },
  {
   "cell_type": "code",
   "execution_count": 179,
   "metadata": {},
   "outputs": [
    {
     "name": "stdout",
     "output_type": "stream",
     "text": [
      "{0, 1, 2, 3, 4, 5, 6, 7, 8, 9, 10}\n"
     ]
    }
   ],
   "source": [
    "print(set(match_df[\"country_name\"]))\n"
   ]
  },
  {
   "cell_type": "markdown",
   "metadata": {},
   "source": [
    "A la columna \"country_name\", la etiquedamos con variables numericas"
   ]
  },
  {
   "cell_type": "code",
   "execution_count": null,
   "metadata": {},
   "outputs": [],
   "source": []
  }
 ],
 "metadata": {
  "kernelspec": {
   "display_name": "Python 3",
   "language": "python",
   "name": "python3"
  },
  "language_info": {
   "codemirror_mode": {
    "name": "ipython",
    "version": 3
   },
   "file_extension": ".py",
   "mimetype": "text/x-python",
   "name": "python",
   "nbconvert_exporter": "python",
   "pygments_lexer": "ipython3",
   "version": "3.7.3"
  }
 },
 "nbformat": 4,
 "nbformat_minor": 2
}
